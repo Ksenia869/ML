{
  "cells": [
    {
      "cell_type": "markdown",
      "metadata": {
        "id": "m2s4kN_QPQVe"
      },
      "source": [
        "# Введение в обучение с подкреплением  (Reinforcement Learning)\n",
        "\n",
        "\n",
        "<center>\n",
        "<img src=\"https://raw.githubusercontent.com/jcformanek/jcformanek.github.io/master/docs/assets/images/rl_in_space.png\" width=\"100%\" />\n",
        "</center>\n",
        "\n",
        "\n",
        "\n",
        "**Введение**\n",
        "\n",
        "На этом семинаре мы изучим обучение с подкреплением - тип машинного обучения без учителя, где агент учится выбирать действия, которые приводят к максимальному вознаграждению в долгосрочной перспективе. Обучение с подкреплением используется в широком спектре сложных задач, в том числе - в видеоиграх, например, [Atari](https://www.deepmind.com/blog/agent57-outperforming-the-human-atari-benchmark), [StarCraft II](https://www.deepmind.com/blog/alphastar-mastering-the-real-time-strategy-game-starcraft-ii) и [Dota II](https://openai.com/five/).\n",
        "\n",
        "На семинаре изучим классическую среду - [CartPole](https://www.gymlibrary.ml/environments/classic_control/cart_pole/), где агент должен научиться балансировать шестом на тележке (см лекцию), используя несколько различных подходов RL. По пути вы познакомитесь с некоторыми из самых важных концепций и терминологии в RL.\n",
        "\n",
        "**Темы:**\n",
        "* Reinforcement Learning (RL, Обучение с подкреплением)\n",
        "* Random Policy Search (Случайный поиск политики)\n",
        "* Policy Gradient (Градиент политики)\n",
        "* Q-Learning\n",
        "\n",
        "\n",
        "**Что надо сделать для лучшего понимания:**\n",
        "\n",
        "* почитать про библиотеку [JAX](https://github.com/google/jax).\n",
        "* вспомнить нейроки.\n",
        "\n"
      ]
    },
    {
      "cell_type": "markdown",
      "metadata": {
        "id": "6EqhIg1odqg0"
      },
      "source": [
        "### Настраиваем среду"
      ]
    },
    {
      "cell_type": "code",
      "execution_count": 1,
      "metadata": {
        "id": "4boGA9rYdt9l"
      },
      "outputs": [],
      "source": [
        "# @title Установка необходимых пакетов (надо просто запустить!) { display-mode: \"form\" }\n",
        "# @markdown Может занять несколько минут\n",
        "%%capture\n",
        "!pip install jaxlib\n",
        "!pip install jax\n",
        "!pip install git+https://github.com/deepmind/dm-haiku\n",
        "!pip install gym==0.25\n",
        "!pip install gym[box2d]\n",
        "!pip install optax\n",
        "!pip install matplotlib\n",
        "!pip install chex\n",
        "!pip install gym[classic_control]"
      ]
    },
    {
      "cell_type": "code",
      "execution_count": 2,
      "metadata": {
        "id": "gwbqggmcRjMy"
      },
      "outputs": [],
      "source": [
        "# @title Импорт необходимых пакетов (просто запустите ячейку) { display-mode: \"form\" }\n",
        "%%capture\n",
        "import copy\n",
        "from shutil import rmtree # deleting directories\n",
        "import random\n",
        "import collections # useful data structures\n",
        "import numpy as np\n",
        "import gym # reinforcement learning environments\n",
        "from gym.wrappers import RecordVideo\n",
        "import jax\n",
        "import jax.numpy as jnp # jax numpy\n",
        "import haiku as hk # jax neural network library\n",
        "import optax # jax optimizer library\n",
        "import matplotlib.pyplot as plt # graph plotting library\n",
        "from IPython.display import HTML\n",
        "from base64 import b64encode\n",
        "import chex\n",
        "\n",
        "# Hide warnings\n",
        "import warnings\n",
        "warnings.filterwarnings('ignore')"
      ]
    },
    {
      "cell_type": "markdown",
      "metadata": {
        "id": "-ZUp8i37dFbU"
      },
      "source": [
        "## 1. Ключевые концепции обучения с подкреплением\n",
        "\n",
        "Обучение с подкреплением (RL) является подразделом машинного обучения (ML). В отличие от таких областей, как контролируемое обучение, где мы даем примеры ожидаемого поведения нашим моделям, RL фокусируется на *целеориентированном* обучении из взаимодействий методом проб и ошибок. Алгоритмы RL изучают, что делать (т. е. какие оптимальные действия предпринять) в среде, чтобы максимизировать некий сигнал вознаграждения. В таких условиях, как видеоигра, сигналом вознаграждения может быть счет игры, т. е. алгоритмы RL будут пытаться максимизировать счет в игре, выбирая лучшие действия.\n",
        "\n",
        "<center>\n",
        "<img src=\"https://pettingzoo.farama.org/_images/environments-demo.gif\" width=\"40%\" />\n",
        "</center>\n",
        "\n",
        "[*Image Source*](https://pettingzoo.farama.org/)\n",
        "\n",
        "Другими словами, в RL у нас есть **агент**, который воспринимает **наблюдение** $o_t$ текущего состояния $s_t$ **окружающей среды** и должен выбрать **действие** $a_t$ для выполнения.\n",
        "\n",
        "Затем окружающая среда переходит в новое состояние $s_{t+1}$ в ответ на действие агента, а также дает агенту скалярное вознаграждение $r_t$, чтобы указать, насколько хорошим или плохим было выбранное действие, учитывая состояние окружающей среды.\n",
        "\n",
        "Целью в RL является максимизация агентом суммы вознаграждения, которое он получает от окружающей среды с течением времени. Нижний индекс $t$ используется для указания номера временного шага, т. е. $s_0$ - это состояние окружающей среды на начальном временном шаге, а $a_{99}$ - это действие агента на $99-м$ временном шаге."
      ]
    },
    {
      "cell_type": "markdown",
      "metadata": {
        "id": "Ghgy69hFRjMz"
      },
      "source": [
        "### Среда - OpenAI Gym\n",
        "Как упоминалось выше, среда получает от агента действие $a_t$ и возвращает вознаграждение $r_t$ и наблюдение $o_t$.\n",
        "\n",
        "OpenAI разработал пакет для Python под названием **Gym**, который включает реализации популярных сред и простой интерфейс для взаимодействия агента RL. Чтобы использовать поддерживаемую [среду gym](https://www.gymlibrary.ml/), все, что вам нужно сделать, это передать имя среды в функцию  `gym.make(<environment_name>)`.\n",
        "\n",
        "В этом уроке мы будем использовать простую среду под названием **CartPole**. В CartPole задача агента — научиться балансировать на шесте как можно дольше, перемещая тележку *влево* или *вправо*.\n",
        "\n",
        "<img src=\"https://user-images.githubusercontent.com/10854026/32486103-f15f19de-c3a5-11e7-81de-0605df939497.gif\" width=\"50%\" />"
      ]
    },
    {
      "cell_type": "code",
      "execution_count": 3,
      "metadata": {
        "id": "WfxzajMYRjMz"
      },
      "outputs": [],
      "source": [
        "# Create the environment\n",
        "env_name = \"CartPole-v0\"\n",
        "env = gym.make(env_name)"
      ]
    },
    {
      "cell_type": "markdown",
      "metadata": {
        "id": "y_BbftaJj3zu"
      },
      "source": [
        "### Состояние (States) и Наблюдение (Observations) - $s_t$ and $o_t$\n",
        "\n",
        "В RL агент воспринимает наблюдение за состоянием среды. В некоторых настройках наблюдение может включать всю информацию, лежащую в основе состояния среды. Такая среда называется **полностью наблюдаемой**. В других настройках агент может получать только частичную информацию о состоянии среды в своем наблюдении. Такая среда называется **частично наблюдаемой**.\n",
        "\n",
        "В оставшейся части этого руководства мы будем предполагать, что среда полностью наблюдаема, и поэтому будем использовать состояние $s_t$ и наблюдение $o_t$ взаимозаменяемо. В Gym мы получаем начальное наблюдение из среды, вызывая функцию `env.reset()`."
      ]
    },
    {
      "cell_type": "code",
      "execution_count": 4,
      "metadata": {
        "id": "HdS8nqOgRjM0",
        "colab": {
          "base_uri": "https://localhost:8080/"
        },
        "outputId": "d867f977-bfdc-45fe-973c-90cd947dda8b"
      },
      "outputs": [
        {
          "output_type": "stream",
          "name": "stdout",
          "text": [
            "Initial State:: [-0.04710986 -0.02264104 -0.01893209  0.03578564]\n",
            "Environment Obs Space Shape: (4,)\n"
          ]
        }
      ],
      "source": [
        "# Reset the environment\n",
        "s_0 = env.reset()\n",
        "print(\"Initial State::\", s_0)\n",
        "\n",
        "# Get environment obs space\n",
        "obs_shape = env.observation_space.shape\n",
        "print(\"Environment Obs Space Shape:\", obs_shape)"
      ]
    },
    {
      "cell_type": "markdown",
      "metadata": {
        "id": "pUNX6mbotABo"
      },
      "source": [
        "В CartPole состояние окружающей среды представлено четырьмя числами: *угловое положение полюса, угловая скорость полюса, положение тележки, скорость тележки*."
      ]
    },
    {
      "cell_type": "markdown",
      "metadata": {
        "id": "hL1Nkgy7nUfn"
      },
      "source": [
        "### Действия (Actions) - $a_t$\n",
        "\n",
        "В RL действия обычно либо **дискретные**, либо **непрерывные**. Непрерывные действия задаются вектором действительных чисел. Дискретные действия задаются целочисленным значением. В средах, где мы можем подсчитать конечный набор действий, мы обычно используем дискретные действия.\n",
        "\n",
        "В CartPole есть только два действия: *влево* и *вправо*. Таким образом, действия могут быть представлены целыми числами $0$ и $1$. В gym мы можем легко получить список возможных действий следующим образом:"
      ]
    },
    {
      "cell_type": "code",
      "execution_count": 5,
      "metadata": {
        "id": "uOLZqU_LpIXh",
        "colab": {
          "base_uri": "https://localhost:8080/"
        },
        "outputId": "c7ee7255-8bda-4ad8-f512-12bc8e8343ea"
      },
      "outputs": [
        {
          "output_type": "stream",
          "name": "stdout",
          "text": [
            "Environment action space: Discrete(2)\n",
            "Number of actions: 2\n"
          ]
        }
      ],
      "source": [
        "# Get action space - e.g. discrete or continuous\n",
        "print(f\"Environment action space: {env.action_space}\")\n",
        "\n",
        "# Get num actions\n",
        "num_actions = env.action_space.n\n",
        "print(f\"Number of actions: {num_actions}\")"
      ]
    },
    {
      "cell_type": "markdown",
      "metadata": {
        "id": "tRsflxbDpoPm"
      },
      "source": [
        "### Политика агента (The Agent's Policy) - $\\pi$\n",
        "\n",
        "В RL агент выбирает действия на основе полученных наблюдений. Мы можем представить процесс выбора действия агента как функцию, которая принимает наблюдение в качестве входных данных и возвращает действие в качестве выходных данных. В RL мы обычно называем эту функцию **политикой** агента и обозначаем ее $\\pi(s_t)=a_t$. В RL мы обычно параметризуем нашу политику каким-либо образом, а затем пытаемся узнать оптимальные параметры. Параметризованная политика обычно обозначается $\\pi_\\theta$, где $\\theta$ — это набор параметров.\n",
        "\n",
        "**Упражнение 1:** В качестве упражнения давайте реализуем простую политику, которая принимает набор параметров и наблюдение в качестве входных данных и возвращает действие. Предположим, что наблюдение — это вектор из четырех чисел, как наблюдение CartPole, и что действие должно быть либо $0$, либо $1$. Предположим также, что параметры — это вектор из четырех действительных чисел. Тогда действие должно быть вычислено следующим образом.\n",
        "\n",
        "\n",
        "1. Вычислите [скалярное произведение векторов](https://www.mathsisfun.com/algebra/vectors-dot-product.html) между наблюдением и параметрами.\n",
        "2. Если результат больше нуля, верните действие $1$.\n",
        "3. В противном случае верните действие $0$.\n",
        "\n",
        "В этом упражнении мы постараемся использовать JAX как можно чаще. Поэтому постарайтесь использовать методы JAX для этой задачи. Ниже приведены некоторые полезные методы, которые вы можете использовать. Вам нужно будет завершить код в блоке ниже, заменив `...` правильным кодом.\n",
        "\n",
        "\n",
        "**Полезные методы:**\n",
        "* Вычислите скалярное произведение векторов с помощью `jax.numpy.dot` ([docs](https://jax.readthedocs.io/en/latest/_autosummary/jax.numpy.dot.html)).\n",
        "\n",
        "* Когда вы пытаетесь условно присвоить значение $0$ или $1$ действию на основе результата скалярного произведения, вам следует использовать `jax.lax.select` ([docs](https://jax.readthedocs.io/en/latest/_autosummary/jax.lax.select.html#jax.lax.select)).\n",
        "\n",
        "Метод `jax.lax.select` принимает три аргумента в качестве входных данных. Первый аргумент — это оператор, который будет оцениваться как `True` или `False`.\n",
        "\n",
        "Если оператор равен `True`, то `jax.lax.select` вернет свой второй аргумент.\n",
        "\n",
        "Если оператор имеет значение `False`, `jax.lax.select` вернет свой третий аргумент.\n",
        "\n"
      ]
    },
    {
      "cell_type": "code",
      "execution_count": 8,
      "metadata": {
        "id": "KSGCd7XB1z8k"
      },
      "outputs": [],
      "source": [
        "def linear_policy(params, obs):\n",
        "  \"\"\"A simple linear policy\n",
        "\n",
        "  Args:\n",
        "    params: a vector of four real-numbers that give the parameters of the policy\n",
        "    obs: a vector of four real-numbers that give the agent's observation\n",
        "\n",
        "  Returns:\n",
        "    a discrete action given by a 0 or 1\n",
        "  \"\"\"\n",
        "  # YOUR CODE\n",
        "  dot_product_result = jax.numpy.dot(params, obs)\n",
        "\n",
        "  action = jax.lax.select(\n",
        "      dot_product_result>0, # boolean statement goes here\n",
        "      1, # result when the statement is True goes here\n",
        "      0, # result when the statement is False goes here\n",
        "  )\n",
        "  # END YOUR CODE\n",
        "  return action"
      ]
    },
    {
      "cell_type": "code",
      "execution_count": 9,
      "metadata": {
        "id": "9EnnBvceb1f3",
        "colab": {
          "base_uri": "https://localhost:8080/"
        },
        "outputId": "75d1267d-c79e-4aeb-dc62-202b4bb5ef93"
      },
      "outputs": [
        {
          "output_type": "stream",
          "name": "stdout",
          "text": [
            "Your function is correct!\n"
          ]
        }
      ],
      "source": [
        "# @title Проверка упр 1  { display-mode: \"form\" }\n",
        "\n",
        "def check_linear_policy(linear_policy):\n",
        "  fixed_obs = jnp.array([1,1,2,4])\n",
        "\n",
        "  # check case1 - negative dot product.\n",
        "  # weights\n",
        "  params1 = jnp.array([1,1,1,1])\n",
        "  params2 = jnp.array([-1,-1,-1,-1])\n",
        "\n",
        "  hint1 = f\"Неправильный ответ, ваша линейная политика неверна. Действие при \\\n",
        "obs={fixed_obs} и params={params1} должно быть 1\"\n",
        "\n",
        "  hint2 = f\"Неправильный ответ, ваша линейная политика неверна. Действие при \\\n",
        "obs={fixed_obs} и params={params2} должно быть 0\"\n",
        "\n",
        "  hint = None\n",
        "  if linear_policy(params1, fixed_obs) != 1:\n",
        "    hint = hint1\n",
        "  elif linear_policy(params2, fixed_obs) != 0:\n",
        "    hint = hint2\n",
        "\n",
        "  if hint is not None:\n",
        "    print(hint)\n",
        "  else:\n",
        "    print(\"Your function is correct!\")\n",
        "\n",
        "try:\n",
        "  check_linear_policy(linear_policy)\n",
        "except Exception as e:\n",
        "    print(\"An Error Occured: {}\".format(e))"
      ]
    },
    {
      "cell_type": "markdown",
      "metadata": {
        "id": "PkuvT-jf6Ieh"
      },
      "source": [
        "### Функция перехода среды - $P$\n",
        "\n",
        "Теперь, когда у нас есть политика, мы можем передавать действия от агента среде. Затем среда перейдет в новое состояние в ответ на действие агента.\n",
        "\n",
        "В RL мы моделируем этот процесс с помощью **функции перехода состояния** $P$, которая принимает текущее состояние $s_t$ и действие $a_t$ в качестве входных данных и возвращает следующее состояние $s_{t+1}$ в качестве выходных данных:\n",
        "\n",
        "<center>\n",
        "$s_{t+1}=P(s_t, a_t)$\n",
        "</center>\n",
        "\n",
        "В gym мы можем передавать действия среде, вызывая функцию `env.step(<action>)`. Затем функция вернет четыре значения:\n",
        "- **следующее наблюдение**\n",
        "- **награду** за выполненное действие\n",
        "- логический флаг, указывающий, **завершена** игра\n",
        "- некоторую **дополнительную** информацию."
      ]
    },
    {
      "cell_type": "code",
      "execution_count": 10,
      "metadata": {
        "id": "hh0j9-Tk7olb",
        "colab": {
          "base_uri": "https://localhost:8080/"
        },
        "outputId": "16ca572b-72e9-49b7-a303-dacea929b2a9"
      },
      "outputs": [
        {
          "output_type": "stream",
          "name": "stdout",
          "text": [
            "Observation: [-0.02406154 -0.03622887 -0.01289106 -0.04116308]\n",
            "Action: 1\n",
            "Next observation: [-0.02478611  0.15907554 -0.01371433 -0.33788523]\n",
            "Reward: 1.0\n",
            "Game is done: False\n"
          ]
        }
      ],
      "source": [
        "# Get the initial obs by resetting the env\n",
        "initial_obs = env.reset()\n",
        "\n",
        "# Randomly sample actions from env\n",
        "action = env.action_space.sample()\n",
        "\n",
        "# Step the environment\n",
        "next_obs, reward, done, info = env.step(action)\n",
        "\n",
        "print(\"Observation:\", initial_obs)\n",
        "print(\"Action:\", action)\n",
        "print(\"Next observation:\", next_obs)\n",
        "print(\"Reward:\", reward)\n",
        "print(\"Game is done:\", done)"
      ]
    },
    {
      "cell_type": "markdown",
      "metadata": {
        "id": "bX9iZtu48UYn"
      },
      "source": [
        "### Возврат эпизода - $R_t$\n",
        "\n",
        "В RL мы обычно разбиваем взаимодействие агента с окружающей средой на **эпизоды**. Сумма всех вознаграждений, собранных во время эпизода, - это то, что мы называем **возвратом** эпизода - $R_t$:\n",
        "\n",
        "<center>\n",
        "$R_t=\\sum_{t=0}^Tr_t$,\n",
        "</center>\n",
        "\n",
        "где $r_t$ - это вознаграждение в момент времени $t$, а $T$ - это последний временной шаг. Цель в RL - выбрать действия, которые максимизируют этот ожидаемый будущий возврат $R_t$."
      ]
    },
    {
      "cell_type": "markdown",
      "metadata": {
        "id": "y6KZA1Nq9p47"
      },
      "source": [
        "### Цикл агент-среда\n",
        "Теперь, когда мы знаем, что такое политика, и знаем, как пошагово проходить среду, давайте закроем цикл агент-среда.\n",
        "\n",
        "**Упражнение 2:** Напишите функцию, которая запускает один эпизод CartPole, последовательно выбирая действия и пошагово проходя среду. Вам следует использовать линейную политику, которую мы определили ранее, для выбора действий. Функция должна отслеживать полученное вознаграждение и выводить возврат в конце эпизода.\n",
        "\n",
        "В CartPole агент получает вознаграждение `1` за каждый временной шаг, когда шест все еще стоит вертикально. Если шест падает, игра заканчивается, и агент больше не получает вознаграждения. Игра также заканчивается после `200` временных шагов, поэтому максимальное вознаграждение, которое может получить агент, составляет `200`."
      ]
    },
    {
      "cell_type": "code",
      "execution_count": 11,
      "metadata": {
        "id": "Buy0X7mi-gHP"
      },
      "outputs": [],
      "source": [
        "def run_episode(env):\n",
        "  episode_return = 0 # counter to keep track of rewards\n",
        "  done = False # initially set to False\n",
        "  params = jnp.array([1,-2,2,-1]) # fixed policy parameters\n",
        "\n",
        "  ## YOUR CODE\n",
        "\n",
        "  obs = env.reset() # TODO: get the initial obs from the env\n",
        "\n",
        "  while not done: # loop until episode is done\n",
        "\n",
        "    action = linear_policy(params, obs) # TODO: compute action using linear policy\n",
        "    action = np.array(action) # We need to the convert the action from the policy to a np.array\n",
        "\n",
        "    obs, reward, done, info = env.step(action) # TODO: step the environment\n",
        "\n",
        "    episode_return += reward # TODO: add reward to episode return\n",
        "\n",
        "  return episode_return"
      ]
    },
    {
      "cell_type": "code",
      "execution_count": 12,
      "metadata": {
        "id": "bA2Orj9PVbKO",
        "colab": {
          "base_uri": "https://localhost:8080/"
        },
        "outputId": "6bab65d8-5804-467d-e01e-debca824c772"
      },
      "outputs": [
        {
          "output_type": "stream",
          "name": "stdout",
          "text": [
            "Looks correct!\n"
          ]
        }
      ],
      "source": [
        "# @title Проверка упр 2 (run me) { display-mode: \"form\" }\n",
        "\n",
        "try:\n",
        "  env.seed(42)\n",
        "  if run_episode(env) == 31:\n",
        "    print(\"Looks correct!\")\n",
        "  else:\n",
        "    print(\"Looks like your implementation might be wrong.\")\n",
        "except Exception as e:\n",
        "    print(\"An Error Occured: {}\".format(e))"
      ]
    },
    {
      "cell_type": "markdown",
      "metadata": {
        "id": "fUGdzHxJnZGl"
      },
      "source": [
        "В CartPole среда считается решенной, когда агент может надежно достичь возврата эпизода 500. Как вы можете видеть, наша текущая политика далека от оптимальной.\n",
        "\n",
        "Один из способов найти оптимальную политику — это случайным образом пробовать разные политики, пока не найдем оптимальную. Эта стратегия называется случайным поиском политики и может быть на удивление эффективной.\n",
        "\n",
        "Прежде чем мы реализуем случайный поиск политики, давайте быстро рассмотрим общий цикл обучения RL, который мы будем использовать для реализации алгоритмов в оставшейся части этого руководства.\n",
        "\n",
        "### Цикл обучения RL общего назначения\n",
        "Мы реализовали для вас цикл обучения RL общего назначения. Цикл обучения принимает несколько аргументов в качестве входных данных, но три наиболее важных для понимания — это `agent_select_action_func`, `agent_learn_func` и `agent_memory`.\n",
        "\n",
        "* `agent_select_action_func` — это функция, которую мы определяем и можем передать в цикл обучения. Функция принимает наблюдение и набор `agent_params` в качестве входных данных и должна возвращать действие.\n",
        "* `agent_learn_func` — это еще один метод, который мы определяем и передаем в цикл обучения. Он должен принимать параметры агента и некоторые «воспоминания» в качестве входных данных, а затем обновлять и возвращать агентам новые параметры.\n",
        "* `agent_memory` — это модуль общего назначения, который мы определяем, который может хранить некоторую релевантную информацию об опыте агента в среде, которую можно использовать в `agent_learn_func`.\n",
        "\n",
        "Ниже приведена функция цикла обучения, которую мы реализовали для вас. Вы можете просмотреть код и попытаться понять его, но это не обязательно. Таким образом, мы скрыли код по умолчанию, просто убедитесь, что вы запустили ячейку кода, прежде чем двигаться дальше, потому что цикл обучения далее в коде."
      ]
    },
    {
      "cell_type": "code",
      "execution_count": 13,
      "metadata": {
        "id": "ZWBwz3zMRjM0"
      },
      "outputs": [],
      "source": [
        "#@title Training loop (run me) { display-mode: \"form\" }\n",
        "\n",
        "# NamedTuple to store transitions\n",
        "Transition = collections.namedtuple(\"Transition\", [\"obs\", \"action\", \"reward\", \"next_obs\", \"done\"])\n",
        "\n",
        "# Training Loop\n",
        "def run_training_loop(env_name, agent_params, agent_select_action_func,\n",
        "    agent_actor_state=None, agent_learn_func=None, agent_learner_state=None,\n",
        "    agent_memory=None, num_episodes=1000, evaluator_period=100,\n",
        "    evaluation_episodes=8, learn_steps_per_episode=1,\n",
        "    train_every_timestep=False, video_subdir=\"\",):\n",
        "    \"\"\"\n",
        "    This function runs several episodes in an environment and periodically does\n",
        "    some agent learning and evaluation.\n",
        "\n",
        "    Args:\n",
        "        env: a gym environment.\n",
        "        agent_params: an object to store parameters that the agent uses.\n",
        "        agent_select_func: a function that does action selection for the agent.\n",
        "        agent_actor_state (optional): an object that stores the internal state\n",
        "            of the agents action selection function.\n",
        "        agent_learn_func (optional): a function that does some learning for the\n",
        "            agent by updating the agent parameters.\n",
        "        agent_learn_state (optional): an object that stores the internal state\n",
        "            of the agent learn function.\n",
        "        agent_memory (optional): an object for storing an retrieving historical\n",
        "            experience.\n",
        "        num_episodes: how many episodes to run.\n",
        "        evaluator_period: how often to run evaluation.\n",
        "        evaluation_episodes: how many evaluation episodes to run.\n",
        "        train_every_timestep: whether to train every timestep rather than at the end\n",
        "            of the episode.\n",
        "        video_subdir: subdirectory to store epsiode recordings.\n",
        "\n",
        "    Returns:\n",
        "        episode_returns: list of all the episode returns.\n",
        "        evaluator_episode_returns: list of all the evaluator episode returns.\n",
        "    \"\"\"\n",
        "\n",
        "    # Setup Cartpole environment and recorder\n",
        "    env = gym.make(env_name, render_mode=\"rgb_array\") # training environment\n",
        "    eval_env = gym.make(env_name, render_mode=\"rgb_array\") # evaluation environment\n",
        "\n",
        "    # Video dir\n",
        "    video_dir = \"./video\"+\"/\"+video_subdir\n",
        "\n",
        "    # Clear video dir\n",
        "    try:\n",
        "      rmtree(video_dir)\n",
        "    except:\n",
        "      pass\n",
        "\n",
        "    # Wrap in recorder\n",
        "    env = RecordVideo(env, video_dir+\"/train\", episode_trigger=lambda x: (x % evaluator_period) == 0)\n",
        "    eval_env = RecordVideo(eval_env, video_dir+\"/eval\", episode_trigger=lambda x: (x % evaluation_episodes) == 0)\n",
        "\n",
        "    # JAX random number generator\n",
        "    rng = hk.PRNGSequence(jax.random.PRNGKey(0))\n",
        "    env.seed(0) # seed environment for reproducability\n",
        "    random.seed(0)\n",
        "\n",
        "    episode_returns = [] # List to store history of episode returns.\n",
        "    evaluator_episode_returns = [] # List to store history of evaluator returns.\n",
        "    timesteps = 0\n",
        "    for episode in range(num_episodes):\n",
        "\n",
        "        # Reset environment.\n",
        "        obs = env.reset()\n",
        "        episode_return = 0\n",
        "        done = False\n",
        "\n",
        "        while not done:\n",
        "\n",
        "            # Agent select action.\n",
        "            action, agent_actor_state = agent_select_action_func(\n",
        "                                            next(rng),\n",
        "                                            agent_params,\n",
        "                                            agent_actor_state,\n",
        "                                            np.array(obs)\n",
        "                                        )\n",
        "\n",
        "            # Step environment.\n",
        "            next_obs, reward, done, _ = env.step(int(action))\n",
        "\n",
        "            # Pack into transition.\n",
        "            transition = Transition(obs, action, reward, next_obs, done)\n",
        "\n",
        "            # Add transition to memory.\n",
        "            if agent_memory: # check if agent has memory\n",
        "              agent_memory.push(transition)\n",
        "\n",
        "            # Add reward to episode return.\n",
        "            episode_return += reward\n",
        "\n",
        "            # Set obs to next obs before next environment step. CRITICAL!!!\n",
        "            obs = next_obs\n",
        "\n",
        "            # Increment timestep counter\n",
        "            timesteps += 1\n",
        "\n",
        "            # Maybe learn every timestep\n",
        "            if train_every_timestep and (timesteps % 4 == 0) and agent_memory and agent_memory.is_ready(): # Make sure memory is ready\n",
        "                # First sample memory and then pass the result to the learn function\n",
        "                memory = agent_memory.sample()\n",
        "                agent_params, agent_learner_state = agent_learn_func(\n",
        "                                                        next(rng),\n",
        "                                                        agent_params,\n",
        "                                                        agent_learner_state,\n",
        "                                                        memory\n",
        "                                                    )\n",
        "\n",
        "        episode_returns.append(episode_return)\n",
        "\n",
        "        # At the end of every episode we do a learn step.\n",
        "        if agent_memory and agent_memory.is_ready(): # Make sure memory is ready\n",
        "\n",
        "            for _ in range(learn_steps_per_episode):\n",
        "                # First sample memory and then pass the result to the learn function\n",
        "                memory = agent_memory.sample()\n",
        "                agent_params, agent_learner_state = agent_learn_func(\n",
        "                                                        next(rng),\n",
        "                                                        agent_params,\n",
        "                                                        agent_learner_state,\n",
        "                                                        memory\n",
        "                                                    )\n",
        "\n",
        "        if (episode % evaluator_period) == 0: # Do evaluation\n",
        "\n",
        "            evaluator_episode_return = 0\n",
        "            for eval_episode in range(evaluation_episodes):\n",
        "                obs = eval_env.reset()\n",
        "                done = False\n",
        "                while not done:\n",
        "                    action, _ = agent_select_action_func(\n",
        "                                    next(rng),\n",
        "                                    agent_params,\n",
        "                                    agent_actor_state,\n",
        "                                    np.array(obs),\n",
        "                                    evaluation=True\n",
        "                                )\n",
        "\n",
        "                    obs, reward, done, _ = eval_env.step(int(action))\n",
        "\n",
        "                    evaluator_episode_return += reward\n",
        "\n",
        "            evaluator_episode_return /= evaluation_episodes\n",
        "\n",
        "            evaluator_episode_returns.append(evaluator_episode_return)\n",
        "\n",
        "            logs = [\n",
        "                    f\"Episode: {episode}\",\n",
        "                    f\"Episode Return: {episode_return}\",\n",
        "                    f\"Average Episode Return: {np.mean(episode_returns[-20:])}\",\n",
        "                    f\"Evaluator Episode Return: {evaluator_episode_return}\"\n",
        "            ]\n",
        "\n",
        "            print(*logs, sep=\"\\t\") # Print the logs\n",
        "\n",
        "    env.close()\n",
        "    eval_env.close()\n",
        "\n",
        "    return episode_returns, evaluator_episode_returns"
      ]
    },
    {
      "cell_type": "markdown",
      "metadata": {
        "id": "CTPlIq4oDBPY"
      },
      "source": [
        "##2. Случайный поиск политики (RPS)\n",
        "В разделе 1 мы использовали фиксированный набор параметров для нашей политики. То есть мы не изучали параметры $\\pi$ $\\theta$, мы просто сохранили их фиксированными ( `params = [1,-2,2,-1]`).\n",
        "\n",
        "Теперь мы реализуем случайный поиск политики (RPS), который представляет собой алгоритм, который случайным образом пробует различные параметры политики и отслеживает лучшие параметры, найденные на данный момент. Мы скажем, что параметры политики $\\theta_A$ лучше параметров $\\theta_B$, если средний возврат эпизода, достигнутый за последние 20 эпизодов политикой с параметрами $\\theta_A$, больше, чем у политики с параметрами $\\theta_B$.\n",
        "\n",
        "Чтобы отслеживать «текущие» параметры, а также «лучшие» параметры, мы будем использовать [NamedTuple](https://www.geeksforgeeks.org/namedtuple-in-python/)."
      ]
    },
    {
      "cell_type": "code",
      "execution_count": 30,
      "metadata": {
        "id": "1DcaC-PQRjM1",
        "colab": {
          "base_uri": "https://localhost:8080/"
        },
        "outputId": "0d1ac041-1593-4d1e-97a5-34d2f68a2b46"
      },
      "outputs": [
        {
          "output_type": "stream",
          "name": "stdout",
          "text": [
            "Best params: [0. 0. 0. 0.]\n",
            "Current params: [-1. -1. -1. -1.]\n"
          ]
        }
      ],
      "source": [
        "# Parameter container for Random Policy Search\n",
        "RandomPolicySearchParams = collections.namedtuple(\"RandomPolicySearchParams\", [\"current\", \"best\"])\n",
        "\n",
        "# TEST: store two different sets of parameters\n",
        "current_params = np.ones(obs_shape) * -1\n",
        "best_params = np.zeros(obs_shape)\n",
        "rps_params = RandomPolicySearchParams(current_params, best_params)\n",
        "\n",
        "# How to access the best or current params.\n",
        "print(f\"Best params: {rps_params.best}\")\n",
        "print(f\"Current params: {rps_params.current}\")"
      ]
    },
    {
      "cell_type": "markdown",
      "metadata": {
        "id": "v91pDDzGex9a"
      },
      "source": [
        "Далее мы реализуем следующее:\n",
        "- **Функция выбора действия RPS** - определяет, как мы выбираем действия с учетом набора параметров.\n",
        "- **Модуль памяти RPS** - определяет, какой опыт хранить из взаимодействий со средой.\n",
        "- **Функция обучения RPS** - определяет, как мы обновляем и улучшаем параметры нашей политики."
      ]
    },
    {
      "cell_type": "markdown",
      "metadata": {
        "id": "0tExceGeGNYH"
      },
      "source": [
        "### Функция выбора действия RPS\n",
        "Давайте реализуем функцию с именем `random_policy_search_choose_action`, которую мы можем передать в цикл обучения. Функция должна принимать несколько аргументов, чтобы она могла хорошо взаимодействовать с нашим обобщенным циклом обучения, но вам нужно будет использовать только три из них - `params`, `obs` и `evaluation`.\n",
        "\n",
        "- `params` - это экземпляр `RandomPolicySearchParams` с \"current\" и \"best\".\n",
        "- `obs` - это последнее наблюдение из среды.\n",
        "- `evaluation` - это логическое значение, которое указывает, следует ли нам использовать параметры \"current\" или \"best\". Когда `evaluation==True`, мы должны использовать параметры \"best\", в противном случае мы должны использовать параметры \"current\".\n",
        "\n",
        "**Упражнение 3:** Реализуйте функцию `random_policy_search_choose_action`, как описано выше. Вам следует использовать метод `linear_policy`, который мы определили ранее. Вам также понадобится `jax.lax.select()` для условного возврата \"лучшего\" действия или \"текущего\" действия."
      ]
    },
    {
      "cell_type": "code",
      "execution_count": 31,
      "metadata": {
        "id": "1kmwT35JRjM1"
      },
      "outputs": [],
      "source": [
        "def random_policy_search_choose_action(\n",
        "    key,\n",
        "    params,\n",
        "    actor_state,\n",
        "    obs,\n",
        "    evaluation=False\n",
        "):\n",
        "  \"\"\"Random policy search select action method.\n",
        "\n",
        "  Args:\n",
        "    key: a random number (seed). Not used in this function.\n",
        "    params: the agent's parameters. In this case an instance of `RandomPolicySearchParams`\n",
        "    actor_state: some extra information about the actor. Not used in this function.\n",
        "    obs: the latest observation.\n",
        "    evaluation: a boolean indicating whether to use the best \"parameters\" or the \"current\" ones.\n",
        "\n",
        "  Returns:\n",
        "    The chosen action and the updated actor_state. In this function the actor_state is not updated.\n",
        "  \"\"\"\n",
        "\n",
        "  # YOUR CODE\n",
        "\n",
        "  best_action = linear_policy(params.best, obs)\n",
        "\n",
        "  current_action = linear_policy(params.current, obs)\n",
        "\n",
        "  action = jax.lax.select(\n",
        "      evaluation==True ,\n",
        "      best_action ,\n",
        "      current_action\n",
        "  )\n",
        "\n",
        "  # END YOUR CODE\n",
        "\n",
        "  return action, actor_state"
      ]
    },
    {
      "cell_type": "code",
      "execution_count": 32,
      "metadata": {
        "id": "YE4xoAgyI3kG",
        "colab": {
          "base_uri": "https://localhost:8080/"
        },
        "outputId": "d3a2662e-e1b6-48a3-ff9b-0f714c45e013"
      },
      "outputs": [
        {
          "output_type": "stream",
          "name": "stdout",
          "text": [
            "Your function looks correct.\n"
          ]
        }
      ],
      "source": [
        "# @title Проверка упр 3 (run me) {display-mode: \"form\"}\n",
        "\n",
        "def check_random_policy_search_choose_action(choose_action):\n",
        "  key = None # not used\n",
        "  actor_state = None # not used\n",
        "\n",
        "  # obs\n",
        "  obs = np.ones(obs_shape)\n",
        "\n",
        "  evaluation=False\n",
        "  current_params = np.ones(obs_shape) * -1\n",
        "  best_params = np.ones(obs_shape)\n",
        "  rps_params = RandomPolicySearchParams(current_params, best_params)\n",
        "  action, actor_state = choose_action(key,rps_params,actor_state,obs,evaluation)\n",
        "  if action != 0:\n",
        "    return False\n",
        "\n",
        "  evaluation=True\n",
        "  current_params = np.ones(obs_shape) * -1\n",
        "  best_params = np.ones(obs_shape)\n",
        "  rps_params = RandomPolicySearchParams(current_params, best_params)\n",
        "  action, actor_state = choose_action(key,rps_params,actor_state,obs,evaluation)\n",
        "  if action != 1:\n",
        "    return False\n",
        "\n",
        "  return True\n",
        "\n",
        "try:\n",
        "  if check_random_policy_search_choose_action(random_policy_search_choose_action):\n",
        "    print(\"Your function looks correct.\")\n",
        "  else:\n",
        "    print(\"Your function looks incorrect.\")\n",
        "except Exception as e:\n",
        "    print(\"An Error Occured: {}\".format(e))"
      ]
    },
    {
      "cell_type": "markdown",
      "metadata": {
        "id": "6zu51ep7Sh0M"
      },
      "source": [
        "### Память агента RPS\n",
        "\n",
        "Для алгоритма поиска случайной политики нам нужно будет отслеживать средний возврат эпизода для последних 50 эпизодов. Помните, что мы сказали, что «текущие» параметры будут считаться «лучшими» параметрами, если средний возврат эпизода при использовании этих параметров больше предыдущего лучшего среднего возврата эпизода.\n",
        "\n",
        "Мы будем использовать интерфейс памяти общего назначения, который довольно прост. Модуль памяти должен иметь три метода. Первый — это функция `memory.push(<transition>)`, которая добавляет некоторую информацию о последнем переходе среды в память. Второй — это функция `memory.is_ready()`, которая проверяет, готова ли память к обучению. Наконец, функция `memory.sample()` должна возвращать последний набор воспоминаний, которые можно передать в `agent_learn_func`.\n",
        "\n",
        "#### Память среднего возврата эпизода\n",
        "Мы создали для вас простой модуль памяти агента. Он хранит `epsisode_returns` последних 20 эпизодов. Прочитайте нашу реализацию ниже и посмотрите, сможете ли вы ее понять. Метод `memory.sample()` возвращает средний возврат эпизода за последние 20 эпизодов."
      ]
    },
    {
      "cell_type": "code",
      "execution_count": 33,
      "metadata": {
        "id": "YVkTBIK5RjM1"
      },
      "outputs": [],
      "source": [
        "class AverageEpisodeReturnBuffer:\n",
        "\n",
        "    def __init__(self, num_episodes_to_store=50):\n",
        "        \"\"\"\n",
        "        This class implements an agent memory that stores the average episode\n",
        "        return over the last 50 episodes.\n",
        "        \"\"\"\n",
        "        self.num_episodes_to_store = num_episodes_to_store\n",
        "        self.episode_return_buffer = []\n",
        "        self.current_episode_return = 0\n",
        "\n",
        "    def push(self, transition):\n",
        "        self.current_episode_return += transition.reward\n",
        "\n",
        "        if transition.done: # If the episode is done\n",
        "            # Add episode return to buffer\n",
        "            self.episode_return_buffer.append(self.current_episode_return)\n",
        "\n",
        "            # Reset episode return\n",
        "            self.current_episode_return = 0\n",
        "\n",
        "\n",
        "    def is_ready(self):\n",
        "        return len(self.episode_return_buffer) == self.num_episodes_to_store\n",
        "\n",
        "    def sample(self):\n",
        "        average_episode_return = np.mean(self.episode_return_buffer)\n",
        "\n",
        "        # Clear episode return buffer\n",
        "        self.episode_return_buffer = []\n",
        "\n",
        "        return average_episode_return"
      ]
    },
    {
      "cell_type": "markdown",
      "metadata": {
        "id": "0oXBsSa2KjWE"
      },
      "source": [
        "### Функция обучения RPS\n",
        "Наконец, нам нужно реализовать функцию `random_policy_search_learn` для нашего алгоритма поиска случайной политики. Функция обучения довольно проста. Все, что нам нужно сделать, это проверить, лучше ли текущие параметры, чем лучшие параметры. Если они лучше, то установите лучшие параметры в качестве текущих параметров и случайным образом сгенерируйте новый набор текущих параметров.\n",
        "\n",
        "**Упражнение 4:** Напишите функцию для случайной генерации новых весов с использованием JAX. Веса должны быть выбраны из интервала `[-2,2]`.\n",
        "\n",
        "**Полезные функции:**\n",
        "*   `jax.random.uniform` ([docs](https://jax.readthedocs.io/en/latest/_autosummary/jax.random.uniform.html#jax.random.uniform))\n",
        "\n"
      ]
    },
    {
      "cell_type": "code",
      "execution_count": 34,
      "metadata": {
        "id": "8V2yFM2XMjGW"
      },
      "outputs": [],
      "source": [
        "def get_new_random_weights(random_key, old_weights, minval=-2.0, maxval=2.0):\n",
        "    new_weights_shape = old_weights.shape # you will need to use these values\n",
        "    new_weights_dtype = old_weights.dtype # you will need to use these values\n",
        "\n",
        "    # YOUR CODE\n",
        "\n",
        "    new_params = jax.random.uniform(random_key,new_weights_shape, new_weights_dtype, minval=-2.0, maxval=2.0)\n",
        "    # END YOUR CODE\n",
        "\n",
        "    return new_params"
      ]
    },
    {
      "cell_type": "code",
      "execution_count": 35,
      "metadata": {
        "id": "T8ifHTKGQlAd",
        "colab": {
          "base_uri": "https://localhost:8080/"
        },
        "outputId": "0a58d746-78b7-4cd0-9c14-9d75456757d0"
      },
      "outputs": [
        {
          "output_type": "stream",
          "name": "stdout",
          "text": [
            "Function is correct!\n"
          ]
        }
      ],
      "source": [
        "# @title Проверка упр 4 (run me) {display-mode: \"form\"}\n",
        "\n",
        "def check_get_new_random_weights(get_new_random_weights):\n",
        "  old_weights = np.ones(obs_shape, \"float32\")\n",
        "  random_key = jax.random.PRNGKey(42)\n",
        "\n",
        "  # Case 1\n",
        "  new_weights = get_new_random_weights(random_key, old_weights, minval=-2.0, maxval=2.0)\n",
        "\n",
        "  if jnp.array_equal(new_weights, jnp.array([ 0.29657745,1.4265499, -1.7621555, -1.7505779 ])):\n",
        "    print(\"Function is correct!\")\n",
        "  else:\n",
        "    print(\"Something is wrong.\")\n",
        "\n",
        "try:\n",
        "  check_get_new_random_weights(get_new_random_weights)\n",
        "except Exception as e:\n",
        "    print(\"An Error Occured: {}\".format(e))"
      ]
    },
    {
      "cell_type": "markdown",
      "metadata": {
        "id": "2Djxc9j-LzkM"
      },
      "source": [
        "Наша функция обучения получает память в форме среднего возврата эпизода из `AverageEpisodeReturnMemory`, которую мы реализовали ранее. Мы можем использовать это для сравнения текущих параметров с лучшими параметрами. Но нам также нужно будет отслеживать лучший средний возврат эпизода для функции обучения. Для этого мы можем использовать аргумент `learn_state`, который передается в `agent_learn_func` в нашем цикле обучения. Как и в случае с `RandomPolicySearchParams`, мы будем использовать NamedTuple для хранения `best_average_episode_return` в `learn_state`."
      ]
    },
    {
      "cell_type": "code",
      "execution_count": 36,
      "metadata": {
        "id": "4cSH4uYmRjM2",
        "colab": {
          "base_uri": "https://localhost:8080/"
        },
        "outputId": "2ecf14ea-e471-4972-e41e-0d49a81dedad"
      },
      "outputs": [
        {
          "output_type": "stream",
          "name": "stdout",
          "text": [
            "Initial best average episode return: -inf\n"
          ]
        }
      ],
      "source": [
        "# A NamedTuple to store the best average episode return so far\n",
        "RandomPolicyLearnState = collections.namedtuple(\n",
        "  \"RandomPolicyLearnState\",\n",
        "  [\"best_average_episode_return\"]\n",
        ")\n",
        "\n",
        "# Test\n",
        "initial_learn_state = RandomPolicyLearnState(best_average_episode_return=-float(\"inf\"))\n",
        "print(\"Initial best average episode return:\", initial_learn_state.best_average_episode_return)"
      ]
    },
    {
      "cell_type": "markdown",
      "metadata": {
        "id": "PxZXdP8bOu6b"
      },
      "source": [
        "Теперь у нас есть все необходимое для реализации функции `random_policy_search_learn`.\n",
        "\n",
        "**Упражнение 5:** Реализуйте функцию `random_policy_search_learn`. Функция должна проверять, лучше ли «текущие» параметры, чем «лучшие» параметры, сравнивая `current_average_episode_return` с `best_average_episode_return`. Функция также должна обновлять `learn_state`."
      ]
    },
    {
      "cell_type": "code",
      "execution_count": 37,
      "metadata": {
        "id": "Te_Q3qzmZcN_"
      },
      "outputs": [],
      "source": [
        "def random_policy_search_learn(key, params, learn_state, memory):\n",
        "    best_params = params.best\n",
        "    current_params = params.current\n",
        "\n",
        "    current_average_episode_return = memory # the memory contains the average episode return\n",
        "    best_average_episode_return = learn_state.best_average_episode_return\n",
        "\n",
        "\n",
        "    # YOUR CODE\n",
        "\n",
        "    best_params = jax.lax.select(\n",
        "        best_average_episode_return > current_average_episode_return,\n",
        "        best_params ,\n",
        "        current_params\n",
        "    )\n",
        "\n",
        "    best_average_episode_return = jax.lax.select(\n",
        "        best_average_episode_return > current_average_episode_return ,\n",
        "        best_average_episode_return ,\n",
        "        current_average_episode_return\n",
        "    )\n",
        "\n",
        "    # END YOUR CODE\n",
        "\n",
        "    # Generate new random parameters\n",
        "    new_params = get_new_random_weights(key, current_params)\n",
        "\n",
        "    # Bundle weights in RandomPolicySearchParams NamedTuple\n",
        "    params = RandomPolicySearchParams(current=new_params, best=best_params)\n",
        "\n",
        "    return params, RandomPolicyLearnState(best_average_episode_return)"
      ]
    },
    {
      "cell_type": "code",
      "execution_count": 38,
      "metadata": {
        "id": "CXHV4k2iBLBF",
        "colab": {
          "base_uri": "https://localhost:8080/"
        },
        "outputId": "8ba34312-1bef-42d2-ad67-63d1a0968df9"
      },
      "outputs": [
        {
          "output_type": "stream",
          "name": "stdout",
          "text": [
            "Your function looks correct.\n"
          ]
        }
      ],
      "source": [
        "#@title Проверка упр 5 {display-mode: \"form\"}\n",
        "\n",
        "params = RandomPolicySearchParams(np.ones(obs_shape, \"float32\"), np.ones(obs_shape, \"float32\") * -1)\n",
        "learn_state = RandomPolicyLearnState(10)\n",
        "memory = 11\n",
        "key = jax.random.PRNGKey(42)\n",
        "\n",
        "try:\n",
        "  new_params, new_learn_state = random_policy_search_learn(key, params, learn_state, memory)\n",
        "\n",
        "  if not jnp.array_equal(new_params.current, jnp.array([ 0.29657745,  1.4265499 , -1.7621555 , -1.7505779 ])):\n",
        "    print(\"Your function is incorrect.\")\n",
        "\n",
        "  elif not jnp.array_equal(new_params.best, jnp.array([1., 1., 1., 1.])):\n",
        "    print(\"Your function is incorrect.\")\n",
        "\n",
        "  elif new_learn_state.best_average_episode_return != 11:\n",
        "    print(\"Your function is incorrect.\")\n",
        "\n",
        "  else:\n",
        "    print(\"Your function looks correct.\")\n",
        "except Exception as e:\n",
        "    print(\"An Error Occured: {}\".format(e))"
      ]
    },
    {
      "cell_type": "markdown",
      "metadata": {
        "id": "5Ol_AxnMBdgP"
      },
      "source": [
        "### Цикл обучения RPS\n",
        "Теперь мы можем собрать все вместе, передав модуль `memory`, функцию `learn` и функцию `choose_action` в цикл обучения. Чтобы ускорить наш алгоритм, мы будем использовать `jax.jit` в функции `learn` и функции `choose_action`."
      ]
    },
    {
      "cell_type": "code",
      "execution_count": 39,
      "metadata": {
        "id": "Qx57tf7vRjM3",
        "colab": {
          "base_uri": "https://localhost:8080/",
          "height": 698
        },
        "outputId": "7bc2917c-4566-42f8-df9e-1a57f67485d2"
      },
      "outputs": [
        {
          "output_type": "stream",
          "name": "stdout",
          "text": [
            "Starting training. This may take up to 5 minutes to complete.\n",
            "Episode: 0\tEpisode Return: 80.0\tAverage Episode Return: 80.0\tEvaluator Episode Return: 146.375\n",
            "Episode: 100\tEpisode Return: 8.0\tAverage Episode Return: 83.4\tEvaluator Episode Return: 123.375\n",
            "Episode: 200\tEpisode Return: 32.0\tAverage Episode Return: 11.1\tEvaluator Episode Return: 140.625\n",
            "Episode: 300\tEpisode Return: 10.0\tAverage Episode Return: 9.7\tEvaluator Episode Return: 145.5\n",
            "Episode: 400\tEpisode Return: 9.0\tAverage Episode Return: 57.55\tEvaluator Episode Return: 151.125\n",
            "Episode: 500\tEpisode Return: 8.0\tAverage Episode Return: 8.9\tEvaluator Episode Return: 144.75\n",
            "Episode: 600\tEpisode Return: 9.0\tAverage Episode Return: 31.0\tEvaluator Episode Return: 157.375\n",
            "Episode: 700\tEpisode Return: 10.0\tAverage Episode Return: 107.35\tEvaluator Episode Return: 130.75\n",
            "Episode: 800\tEpisode Return: 9.0\tAverage Episode Return: 168.45\tEvaluator Episode Return: 189.125\n",
            "Episode: 900\tEpisode Return: 19.0\tAverage Episode Return: 9.95\tEvaluator Episode Return: 183.375\n",
            "Episode: 1000\tEpisode Return: 9.0\tAverage Episode Return: 9.2\tEvaluator Episode Return: 181.5\n"
          ]
        },
        {
          "output_type": "display_data",
          "data": {
            "text/plain": [
              "<Figure size 640x480 with 1 Axes>"
            ],
            "image/png": "[encoded data removed]"
          },
          "metadata": {}
        }
      ],
      "source": [
        "# JIT the learn and choose action functions\n",
        "random_policy_search_learn_jit = jax.jit(random_policy_search_learn)\n",
        "random_policy_search_choose_action_jit = jax.jit(random_policy_search_choose_action)\n",
        "\n",
        "# Initialise the parameters\n",
        "initial_weights = np.ones(obs_shape, \"float32\")\n",
        "initial_params = RandomPolicySearchParams(initial_weights, initial_weights)\n",
        "\n",
        "# Initialise the learn state\n",
        "initial_learn_state = RandomPolicyLearnState(best_average_episode_return=-float(\"inf\"))\n",
        "\n",
        "# Initialise memory\n",
        "memory = AverageEpisodeReturnBuffer(num_episodes_to_store=50)\n",
        "\n",
        "# Run the training loop\n",
        "print(\"Starting training. This may take up to 5 minutes to complete.\")\n",
        "chex.clear_trace_counter()\n",
        "episode_return, evaluator_episode_returns = run_training_loop(\n",
        "                                        env_name,\n",
        "                                        initial_params,\n",
        "                                        random_policy_search_choose_action_jit,\n",
        "                                        None, # no actor state\n",
        "                                        random_policy_search_learn_jit,\n",
        "                                        initial_learn_state,\n",
        "                                        memory,\n",
        "                                        num_episodes=1001,\n",
        "                                        video_subdir=\"rps\"\n",
        "                                    )\n",
        "\n",
        "# Plot graph of evaluator episode returns\n",
        "plt.plot(np.linspace(0, 1000, len(evaluator_episode_returns)), evaluator_episode_returns)\n",
        "plt.title(\"Random Policy Search\")\n",
        "plt.xlabel(\"Episodes\")\n",
        "plt.ylabel(\"Episode Return\")\n",
        "plt.show()"
      ]
    },
    {
      "cell_type": "markdown",
      "metadata": {
        "id": "TG10FG6uS05A"
      },
      "source": [
        "Надеюсь, вы нашли набор оптимальных параметров на CartPole (возврат эпизода достигает `200`). В ячейке ниже вы можете посмотреть несколько видеороликов агента, выполняющего задание."
      ]
    },
    {
      "cell_type": "code",
      "execution_count": 40,
      "metadata": {
        "id": "KgayDJ7KWC4C",
        "colab": {
          "base_uri": "https://localhost:8080/",
          "height": 288
        },
        "outputId": "0f1fd9fe-1e8e-4a4c-aa68-6e88a88e6418"
      },
      "outputs": [
        {
          "output_type": "execute_result",
          "data": {
            "text/plain": [
              "<IPython.core.display.HTML object>"
            ],
            "text/html": [
              "\n",
              "<video width=400 controls>\n",
              "      <source src=\"data:video/mp4;base64,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\" type=\"video/mp4\">\n",
              "</video>\n"
            ]
          },
          "metadata": {},
          "execution_count": 40
        }
      ],
      "source": [
        "#@title Visualise Policy {display-mode: \"form\"}\n",
        "#@markdown Choose an episode number that is a multiple of 100 and less than or equal to 2000, and **run** this cell.\n",
        "episode_number = 800 #@param {type:\"number\"}\n",
        "\n",
        "assert (episode_number % 100) == 0, \"Episode number must be a multiple of 100 since we only record every 100th episode.\"\n",
        "assert episode_number < 1001, \"Episode number must be less than or equal to 2000\"\n",
        "\n",
        "eval_episode_number = int(episode_number / 100 * 8)\n",
        "video_path = f\"./video/rps/eval/rl-video-episode-{eval_episode_number}.mp4\"\n",
        "\n",
        "mp4 = open(video_path,'rb').read()\n",
        "data_url = \"data:video/mp4;base64,\" + b64encode(mp4).decode()\n",
        "HTML(\"\"\"\n",
        "<video width=400 controls>\n",
        "      <source src=\"%s\" type=\"video/mp4\">\n",
        "</video>\n",
        "\"\"\" % data_url)"
      ]
    },
    {
      "cell_type": "markdown",
      "metadata": {
        "id": "Xwf1IKKbrrVn"
      },
      "source": [
        "Итак, случайный поиск политики справился с этой задачей довольно хорошо. Однако здесь происходит очень мало (если вообще происходит) реального *обучения*. Далее давайте рассмотрим реализацию простого алгоритма RL, который может использовать свой опыт для руководства нашим поиском оптимальной политики, а не просто искать ее случайным образом."
      ]
    },
    {
      "cell_type": "markdown",
      "metadata": {
        "id": "XEnSjZVESrxc"
      },
      "source": [
        "## 3. Градиенты политики  (Policy Gradients, PG)\n",
        "Как обсуждалось, цель RL — найти политику, которая максимизирует ожидаемое совокупное вознаграждение (возврат), которое агент получает от среды. Мы можем записать ожидаемый возврат политики как:\n",
        "\n",
        "$J(\\pi_\\theta)=\\mathrm{E}_{\\tau\\sim\\pi_\\theta}\\ [R(\\tau)]$,\n",
        "\n",
        "где $\\pi_\\theta$ — это политика, параметризованная $\\theta$, $\\mathrm{E}$ означает *ожидание*, $\\tau$ — это сокращение для \"*эпизод*\", $\\tau\\sim\\pi_\\theta$ — это сокращение для \"*эпизоды, выбранные с использованием политики* $\\pi_\\theta$\", а $R(\\tau)$ — это возврат эпизода $\\tau$.\n",
        "\n",
        "Затем, цель в RL — найти параметры $\\theta$, которые максимизируют функцию $J(\\pi_\\theta)$. Один из способов найти эти параметры — выполнить градиентный подъем по $J(\\pi_\\theta)$ относительно параметров $\\theta$:\n",
        "\n",
        "$\\theta_{k+1}=\\theta_k + \\alpha \\nabla J(\\pi_\\theta)|_{\\theta_{k}}$,\n",
        "\n",
        "где $\\nabla J(\\pi_\\theta)|_{\\theta_{k}}$ — градиент ожидаемой доходности относительно параметров политики $\\theta_k$, а $\\alpha$ — размер шага. Эта величина, $\\nabla J(\\pi_\\theta)$, также называется **градиентом политики** и очень важна в RL. Если мы сможем вычислить градиент политики, то у нас будет средство, с помощью которого можно напрямую оптимизировать нашу политику.\n",
        "\n",
        "Как оказалось, у нас есть способ вычислить градиент политики, и математический вывод можно найти [здесь](https://spinningup.openai.com/en/latest/spinningup/rl_intro3.html). Но для этого руководства мы опустим вывод и просто дадим вам результат:\n",
        "\n",
        "$\\nabla_{\\theta} J(\\pi_{\\theta})=\\underset{\\tau \\sim \\pi_{\\theta}}{\\mathrm{E}}[\\sum_{t=0}^{T} \\nabla_{\\theta} \\log \\pi_{\\theta}(a_{t} \\mid s_{t}) R(\\tau)]$\n",
        "\n",
        "Неформально, градиент политики равен градиенту логарифма вероятности выбранного действия, умноженного на возврат эпизода, в котором было предпринято действие.\n"
      ]
    },
    {
      "cell_type": "markdown",
      "metadata": {
        "id": "BTnTzgtSuy-y"
      },
      "source": [
        "### REINFORCE\n",
        "REINFORCE — это простой алгоритм RL, который использует градиент политики для поиска оптимальной политики путем увеличения вероятности выбора действий (усиливающих действий), которые, как правило, приводят к эпизодам с высокой отдачей.\n",
        "\n",
        "**Упражнение 6:** Реализуйте функцию, которая берет вероятность действия и отдачу эпизода, в котором действие было предпринято, и вычисляет логарифм вероятности, умноженный на отдачу. Убедитесь, что вы используете JAX.\n",
        "\n",
        "**Полезные функции:**\n",
        "*   `jax.numpy.log`([docs](https://jax.readthedocs.io/en/latest/_autosummary/jax.numpy.log.html))"
      ]
    },
    {
      "cell_type": "code",
      "execution_count": 28,
      "metadata": {
        "id": "bJObUsoUrOyV"
      },
      "outputs": [],
      "source": [
        "def compute_weighted_log_prob(action_prob, episode_return):\n",
        "\n",
        "    # YOUR CODE\n",
        "\n",
        "    log_prob = jax.numpy.log(action_prob)\n",
        "\n",
        "    weighted_log_prob = log_prob*episode_return\n",
        "\n",
        "    # END YOUR CODE\n",
        "\n",
        "    return weighted_log_prob"
      ]
    },
    {
      "cell_type": "code",
      "execution_count": 29,
      "metadata": {
        "id": "eZPoTwa1Gbm1",
        "colab": {
          "base_uri": "https://localhost:8080/"
        },
        "outputId": "b12921d4-3229-4aef-85dd-4bad56464e19"
      },
      "outputs": [
        {
          "output_type": "stream",
          "name": "stdout",
          "text": [
            "Looks correct.\n"
          ]
        }
      ],
      "source": [
        "#@title Проверка упр 6 {display-mode: \"form\"}\n",
        "\n",
        "try:\n",
        "  action_prob = 0.8\n",
        "  episode_return = 100\n",
        "  result = compute_weighted_log_prob(action_prob, episode_return)\n",
        "  if result != -22.314354:\n",
        "    print(\"Your implementation looks incorrect.\")\n",
        "  else:\n",
        "    print(\"Looks correct.\")\n",
        "except Exception as e:\n",
        "    print(\"An Error Occured: {}\".format(e))"
      ]
    },
    {
      "cell_type": "markdown",
      "metadata": {
        "id": "NmgW9UJ3tIpl"
      },
      "source": [
        "### Rewards-to-go\n",
        "Выполнение градиентного подъема по градиенту логарифма вероятности действия, взвешенного по возврату эпизода, будет иметь тенденцию повышать вероятность действий, которые были в эпизодах с высоким возвратом, независимо от того, *где* в эпизоде ​​было выполнено действие. Это на самом деле не имеет большого смысла, потому что действие ближе к концу эпизода может быть подкреплено, потому что много вознаграждения было собрано ранее в эпизоде, *до* того, как было выполнено действие. Агенты RL должны на самом деле подкреплять действия только на основе их *последствий*. Вознаграждения, полученные до выполнения действия, не влияют на то, насколько хорошим было это действие: только вознаграждения, которые приходят после. Накопленные вознаграждения, полученные после выполнения действия, называются **вознаграждениями-к-переходу** и могут быть вычислены как:\n",
        "\n",
        "$\\hat{R}_i=\\sum_{t=i}^Tr_t$\n",
        "\n",
        "Сравните это с доходностью эпизода:\n",
        "\n",
        "$R(\\tau)=\\sum_{t=0}^Tr_t$\n",
        "\n",
        "Мы можем повысить надежность градиента политики, заменив доходность эпизода на вознаграждения-к-переходу. Градиент политики с оставшимися наградами задается следующим образом:\n",
        "\n",
        "$\\nabla_{\\theta} J(\\pi_{\\theta})=\\underset{\\tau \\sim \\pi_{\\theta}}{\\mathrm{E}}[\\sum_{t=0}^{T} \\nabla_{\\theta} \\log \\pi_{\\theta}(a_{t} \\mid s_{t}) \\hat{R}_t]$\n",
        "\n",
        "**Упражнение 7:** Реализуйте функцию, которая берет список всех наград, полученных в эпизоде, и вычисляет оставшиеся награды. Не беспокойтесь об использовании JAX в этой функции. Вы можете использовать обычные операции Python, такие как `for-loops`."
      ]
    },
    {
      "cell_type": "code",
      "execution_count": 41,
      "metadata": {
        "id": "nV1Hww8E3dUJ"
      },
      "outputs": [],
      "source": [
        "def compute_rewards_to_go(rewards):\n",
        "    \"\"\"\n",
        "    This function should take a list of rewards as input and\n",
        "    compute the rewards-to-go for each timestep.\n",
        "\n",
        "    EXAMPLE: compute_rewards_to_go([1,2,3,4]) = [10, 9, 7, 4]\n",
        "\n",
        "    Arguments:\n",
        "        rewards[t] is the reward at time step t.\n",
        "\n",
        "    Returns:\n",
        "        rewards_to_go[t] should be the reward-to-go at timestep t.\n",
        "    \"\"\"\n",
        "\n",
        "    rewards_to_go = []\n",
        "    for i in range(len(rewards)):\n",
        "        r2g = 0\n",
        "        for j in range(i, len(rewards)):\n",
        "            r2g += rewards[j]\n",
        "        rewards_to_go.append(r2g)\n",
        "\n",
        "    return rewards_to_go"
      ]
    },
    {
      "cell_type": "code",
      "execution_count": 42,
      "metadata": {
        "id": "hLVaVRp28YGI",
        "colab": {
          "base_uri": "https://localhost:8080/"
        },
        "outputId": "719feda3-b101-40d4-9937-e9af57c9e3b2"
      },
      "outputs": [
        {
          "output_type": "stream",
          "name": "stdout",
          "text": [
            "Looks correct.\n"
          ]
        }
      ],
      "source": [
        "#@title Проверка упр 7 {display-mode: \"form\"}\n",
        "\n",
        "try:\n",
        "  result = compute_rewards_to_go([1,2,3,4])\n",
        "\n",
        "  if result != [10, 9, 7, 4]:\n",
        "    print(\"There is a problem with your implementation.\")\n",
        "  else:\n",
        "    print(\"Looks correct.\")\n",
        "except Exception as e:\n",
        "    print(\"An Error Occured: {}\".format(e))\n"
      ]
    },
    {
      "cell_type": "markdown",
      "metadata": {
        "id": "IboxN9MS65i5"
      },
      "source": [
        "### REINFORCE memory\n",
        "Далее нам нужно будет создать новую память агента для хранения вознаграждений $\\hat{R}_t$ вместе с наблюдением $o_t$ и действием $a_t$ на каждом временном шаге. Ниже мы реализовали такой модуль памяти для вас. Функция `memory.sample()` вернет пакет из последних 500 воспоминаний. Вы можете прочитать код, чтобы попытаться понять его, но это не обязательно. Поэтому мы скрываем код по умолчанию."
      ]
    },
    {
      "cell_type": "code",
      "execution_count": 43,
      "metadata": {
        "id": "xhS4V6auRjM3"
      },
      "outputs": [],
      "source": [
        "# @title Реализация памяти (run me) {display-mode: \"form\"}\n",
        "\n",
        "# NamedTuple to store memory\n",
        "EpisodeRewardsToGoMemory = collections.namedtuple(\"EpisodeRewardsToGoMemory\", [\"obs\", \"action\", \"reward_to_go\"])\n",
        "\n",
        "class EpisodeRewardsToGoBuffer:\n",
        "\n",
        "    def __init__(self, num_transitions_to_store=512, batch_size=256):\n",
        "        self.batch_size = batch_size\n",
        "        self.memory_buffer = collections.deque(maxlen=num_transitions_to_store)\n",
        "        self.current_episode_transition_buffer = []\n",
        "\n",
        "    def push(self, transition):\n",
        "        self.current_episode_transition_buffer.append(transition)\n",
        "\n",
        "        if transition.done:\n",
        "\n",
        "            episode_rewards = []\n",
        "            for t in self.current_episode_transition_buffer:\n",
        "                episode_rewards.append(t.reward)\n",
        "\n",
        "            r2g = compute_rewards_to_go(episode_rewards)\n",
        "\n",
        "            for i, t in enumerate(self.current_episode_transition_buffer):\n",
        "                memory = EpisodeRewardsToGoMemory(t.obs, t.action, r2g[i])\n",
        "                self.memory_buffer.append(memory)\n",
        "\n",
        "            # Reset episode buffer\n",
        "            self.current_episode_transition_buffer = []\n",
        "\n",
        "\n",
        "    def is_ready(self):\n",
        "        return len(self.memory_buffer) >= self.batch_size\n",
        "\n",
        "    def sample(self):\n",
        "        random_memory_sample = random.sample(self.memory_buffer, self.batch_size)\n",
        "\n",
        "        obs_batch, action_batch, reward_to_go_batch = zip(*random_memory_sample)\n",
        "\n",
        "        return EpisodeRewardsToGoMemory(\n",
        "            np.stack(obs_batch).astype(\"float32\"),\n",
        "            np.asarray(action_batch).astype(\"int32\"),\n",
        "            np.asarray(reward_to_go_batch).astype(\"int32\")\n",
        "        )\n",
        "\n",
        "\n",
        "# Instantiate Memory\n",
        "REINFORCE_memory = EpisodeRewardsToGoBuffer(num_transitions_to_store=512, batch_size=256)"
      ]
    },
    {
      "cell_type": "markdown",
      "metadata": {
        "id": "Idkav_aSYXvz"
      },
      "source": [
        "### Policy neural network\n",
        "Далее мы будем использовать простую нейронную сеть для аппроксимации политики. Наша нейронная сеть политики будет иметь входной слой, который принимает наблюдение в качестве входных данных и пропускает его через два скрытых слоя, а затем выводит одно скалярное значение для каждого из возможных действий. Таким образом, в CartPole выходной слой будет иметь размер `2`.\n",
        "\n",
        "[Haiku](https://github.com/deepmind/dm-haiku) — это библиотека для реализации нейронных сетей в JAX. Ниже мы реализовали простую функцию для создания сети политики для вас.\n"
      ]
    },
    {
      "cell_type": "code",
      "execution_count": 44,
      "metadata": {
        "id": "j2XO7VkORjM4"
      },
      "outputs": [],
      "source": [
        "def make_policy_network(num_actions: int, layers=[20, 20]) -> hk.Transformed:\n",
        "  \"\"\"Factory for a simple MLP network for the policy.\"\"\"\n",
        "\n",
        "  def policy_network(obs):\n",
        "    network = hk.Sequential(\n",
        "        [\n",
        "            hk.Flatten(),\n",
        "            hk.nets.MLP(layers + [num_actions])\n",
        "        ]\n",
        "    )\n",
        "    return network(obs)\n",
        "\n",
        "  return hk.without_apply_rng(hk.transform(policy_network))"
      ]
    },
    {
      "cell_type": "markdown",
      "metadata": {
        "id": "1GR2y8FjaG-G"
      },
      "source": [
        "У сетей Haiku есть две важные функции, о которых вам нужно знать. Первая — `network.init(<random_key>, <input>)`, которая возвращает набор случайных начальных параметров. Второй метод — `network.apply(<params>, <input>)`, который передает входные данные через сеть, используя предоставленный набор параметров."
      ]
    },
    {
      "cell_type": "code",
      "execution_count": 45,
      "metadata": {
        "id": "fJrn9o-Vatkw",
        "colab": {
          "base_uri": "https://localhost:8080/"
        },
        "outputId": "30039342-2206-49df-bc93-f0127d87fef7"
      },
      "outputs": [
        {
          "output_type": "stream",
          "name": "stdout",
          "text": [
            "Initial params: dict_keys(['mlp/~/linear_0', 'mlp/~/linear_1', 'mlp/~/linear_2'])\n",
            "Policy network output: [ 0.91155875 -0.3961737 ]\n"
          ]
        }
      ],
      "source": [
        "# Example\n",
        "POLICY_NETWORK = make_policy_network(num_actions=num_actions, layers=[20,20])\n",
        "random_key = jax.random.PRNGKey(42) # random key\n",
        "dummy_obs = np.ones(obs_shape, \"float32\")\n",
        "\n",
        "# Initialise parameters\n",
        "REINFORCE_params = POLICY_NETWORK.init(random_key, dummy_obs)\n",
        "print(\"Initial params:\", REINFORCE_params.keys())\n",
        "\n",
        "# Pass input through the network\n",
        "output = POLICY_NETWORK.apply(REINFORCE_params, dummy_obs)\n",
        "print(\"Policy network output:\", output)\n"
      ]
    },
    {
      "cell_type": "markdown",
      "metadata": {
        "id": "MlouUBvoeunz"
      },
      "source": [
        "Выходы нашей сети политик — [логиты](https://qr.ae/pv4YTe). Чтобы преобразовать это в распределение вероятностей по действиям, мы передаем логиты в функцию [softmax](https://en.wikipedia.org/wiki/Softmax_function).\n",
        "\n",
        "### УСИЛЕНИЕ выбор функции действия\n",
        "\n",
        "**Упражнение 8:** Завершите функцию ниже, которая берет вектор логитов и случайным образом выбирает действие из категориального распределения, заданного логитами.\n",
        "\n",
        "**Полезные функции:**\n",
        "*   `jax.random.categorical`([docs](https://jax.readthedocs.io/en/latest/_autosummary/jax.random.categorical.html#jax.random.categorical))"
      ]
    },
    {
      "cell_type": "code",
      "execution_count": 46,
      "metadata": {
        "id": "m3Z8DxUmeOGJ"
      },
      "outputs": [],
      "source": [
        "def sample_action(random_key, logits):\n",
        "\n",
        "  # YOUR CODE HERE\n",
        "  action = jax.random.categorical(random_key, logits)\n",
        "\n",
        "  # END YOUR code\n",
        "\n",
        "  return action"
      ]
    },
    {
      "cell_type": "code",
      "execution_count": 47,
      "metadata": {
        "id": "5opHJMO0D_Ub",
        "colab": {
          "base_uri": "https://localhost:8080/"
        },
        "outputId": "1c31eb24-873c-4e96-d72b-0818fd4afb84"
      },
      "outputs": [
        {
          "output_type": "stream",
          "name": "stdout",
          "text": [
            "Seems correct.\n"
          ]
        }
      ],
      "source": [
        "#@title Проверка упр 8 {display-mode: \"form\"}\n",
        "\n",
        "try:\n",
        "  random_key = jax.random.PRNGKey(42) # random key\n",
        "  action = sample_action(random_key, np.array([1,2], \"float32\"))\n",
        "  if action != 1:\n",
        "    print(\"Your function is incorrect.\")\n",
        "  else:\n",
        "    print(\"Seems correct.\")\n",
        "except Exception as e:\n",
        "    print(\"An Error Occured: {}\".format(e))"
      ]
    },
    {
      "cell_type": "markdown",
      "metadata": {
        "id": "jP5UH87VRjM4"
      },
      "source": [
        "Теперь мы можем реализовать функцию `REINFORCE_choose_action`. Мы передадим наблюдение через сеть политики для вычисления логитов, а затем передадим логиты в функцию `sample_action` для выбора и действия."
      ]
    },
    {
      "cell_type": "code",
      "execution_count": 48,
      "metadata": {
        "id": "UJTzrDAZ0Ul5"
      },
      "outputs": [],
      "source": [
        "def REINFORCE_choose_action(key, params, actor_state, obs, evaluation=False):\n",
        "  obs = jnp.expand_dims(obs, axis=0) # add dummy batch dim before passing through network\n",
        "\n",
        "  # Pass obs through policy network to compute logits\n",
        "  logits = POLICY_NETWORK.apply(params, obs)\n",
        "  logits = logits[0] # remove batch dim\n",
        "\n",
        "  # Randomly sample action\n",
        "  sampled_action = sample_action(key, logits)\n",
        "\n",
        "  return sampled_action, actor_state"
      ]
    },
    {
      "cell_type": "markdown",
      "metadata": {
        "id": "NI26SLAb7iRo"
      },
      "source": [
        "Теперь, когда мы реализовали функцию `REINFORCE_choose_action`, нам осталось только создать функцию `REINFORCE_learn`. Функция обучения должна использовать функцию `weighted_log_prob`, которую мы создали ранее, чтобы вычислить потери градиента политики и применить обновления градиента к нашей нейронной сети."
      ]
    },
    {
      "cell_type": "markdown",
      "metadata": {
        "id": "36ALCJESQJ8e"
      },
      "source": [
        "### Policy gradient loss\n",
        "\n",
        "\n",
        "**Упражнение 9:** Завершите функцию `policy_gradient_loss` ниже. Функция должна вычислять вероятности действий, пропуская `logits` через функцию softmax. Затем следует извлечь вероятность заданного `action` (используя индексацию массива) и вычислить `weighted_log_prob`, используя функцию, которую мы создали ранее.\n",
        "\n",
        "**Полезные методы:**\n",
        "*   `jax.nn.softmax` ([docs](https://jax.readthedocs.io/en/latest/_autosummary/jax.nn.softmax.html))"
      ]
    },
    {
      "cell_type": "code",
      "execution_count": 51,
      "metadata": {
        "id": "9sUKkqx0RjM4"
      },
      "outputs": [],
      "source": [
        "def policy_gradient_loss(action, logits, reward_to_go):\n",
        "\n",
        "  # YOUR CODE\n",
        "\n",
        "  all_action_probs = jax.nn.softmax(logits) # convert logits into probs\n",
        "\n",
        "  action_prob = all_action_probs[action] # using array indexing to get prob of action\n",
        "\n",
        "  weighted_log_prob = compute_weighted_log_prob(action_prob, reward_to_go)\n",
        "\n",
        "  # END YOUR CODE\n",
        "\n",
        "  loss = -weighted_log_prob # negative because we want gradient `ascent`\n",
        "\n",
        "  return loss"
      ]
    },
    {
      "cell_type": "code",
      "execution_count": 52,
      "metadata": {
        "id": "7AMJvau1FsM5",
        "colab": {
          "base_uri": "https://localhost:8080/"
        },
        "outputId": "e057bf2e-8f1a-41c3-eb98-02e5dd3fc657"
      },
      "outputs": [
        {
          "output_type": "stream",
          "name": "stdout",
          "text": [
            "Looks correct.\n"
          ]
        }
      ],
      "source": [
        "#@title Проверка упр 9 {display-mode: \"form\"}\n",
        "\n",
        "try:\n",
        "  result = policy_gradient_loss(1, np.array([1,2], \"float32\"), 10)\n",
        "  if result != 3.1326165:\n",
        "    print(\"Your implementation looks wrong.\")\n",
        "  else:\n",
        "    print(\"Looks correct.\")\n",
        "except Exception as e:\n",
        "  print(\"An Error Occured: {}\".format(e))\n"
      ]
    },
    {
      "cell_type": "markdown",
      "metadata": {
        "id": "Gzuqx1jJrwVx"
      },
      "source": [
        "Когда мы делаем шаг обновления градиента политики, мы захотим сделать это, используя пакет опыта, а не просто один опыт, как выше. Мы можем использовать функцию JAX [vmap](https://jax.readthedocs.io/en/latest/_autosummary/jax.vmap.html#jax.vmap), чтобы легко заставить нашу функцию `policy_gradient_loss` работать с пакетом опыта."
      ]
    },
    {
      "cell_type": "code",
      "execution_count": 53,
      "metadata": {
        "id": "3yq4naLURjM4",
        "colab": {
          "base_uri": "https://localhost:8080/"
        },
        "outputId": "ee83d30a-2e0a-414f-c9dd-e30bb2e00f41"
      },
      "outputs": [
        {
          "output_type": "stream",
          "name": "stdout",
          "text": [
            "Policy gradient loss on batch: 1.6967314\n"
          ]
        }
      ],
      "source": [
        "def batched_policy_gradient_loss(params, obs_batch, action_batch, reward_to_go_batch):\n",
        "    # Get logits by passing observation through network\n",
        "    logits_batch = POLICY_NETWORK.apply(params, obs_batch)\n",
        "\n",
        "    policy_gradient_loss_batch = jax.vmap(policy_gradient_loss)(\n",
        "        action_batch,\n",
        "        logits_batch,\n",
        "        reward_to_go_batch) # add batch\n",
        "\n",
        "    # Compute mean loss over batch\n",
        "    mean_policy_gradient_loss = jnp.mean(policy_gradient_loss_batch)\n",
        "\n",
        "    return mean_policy_gradient_loss\n",
        "\n",
        "# TEST\n",
        "obs_batch = np.ones((3, *obs_shape), \"float32\")\n",
        "actions_batch = np.array([1,0,0])\n",
        "rew2go_batch = np.array([2.3, 4.3, 2.1])\n",
        "\n",
        "loss = batched_policy_gradient_loss(REINFORCE_params, obs_batch, actions_batch, rew2go_batch)\n",
        "\n",
        "print(\"Policy gradient loss on batch:\", loss)"
      ]
    },
    {
      "cell_type": "markdown",
      "metadata": {
        "id": "VDhTH3culwqo"
      },
      "source": [
        "### Оптимизатор сети\n",
        "\n",
        "Чтобы применить обновления градиента политики к нашей нейронной сети, мы будем использовать библиотеку JAX под названием [Optax](https://github.com/deepmind/optax). Optax имеет реализацию [оптимизатора Adam](https://www.geeksforgeeks.org/intuition-of-adam-optimizer/), которую мы можем использовать."
      ]
    },
    {
      "cell_type": "code",
      "execution_count": 54,
      "metadata": {
        "id": "pxXINlMHP5Ic"
      },
      "outputs": [],
      "source": [
        "REINFORCE_OPTIMIZER = optax.adam(1e-3)\n",
        "\n",
        "# Initialise the optimiser\n",
        "REINFORCE_optim_state = REINFORCE_OPTIMIZER.init(REINFORCE_params)"
      ]
    },
    {
      "cell_type": "markdown",
      "metadata": {
        "id": "ViENrHOALbCw"
      },
      "source": [
        "Теперь у нас есть все необходимое для создания функции `REINFORCE_learn`. Мы сохраним состояние оптимизатора в `learn_state`. Мы вычислим градиент потерь градиента политики с помощью  `jax.grad` ([docs](https://jax.readthedocs.io/en/latest/_autosummary/jax.grad.html))."
      ]
    },
    {
      "cell_type": "code",
      "execution_count": 55,
      "metadata": {
        "id": "CQr2Uz5ORjM5"
      },
      "outputs": [],
      "source": [
        "# A NamedTuple to store the state of the optimiser\n",
        "REINFORCELearnState = collections.namedtuple(\"LearnerState\", [\"optim_state\"])\n",
        "\n",
        "\n",
        "def REINFORCE_learn(key, params, learner_state, memory):\n",
        "\n",
        "  # Get the policy gradient by using `jax.grad()` on `batched_policy_gradient_loss`\n",
        "  grad_loss = jax.grad(batched_policy_gradient_loss)(params, memory.obs, memory.action, memory.reward_to_go)\n",
        "\n",
        "  # Get param updates using gradient and optimizer\n",
        "  updates, new_optim_state = REINFORCE_OPTIMIZER.update(grad_loss, learner_state.optim_state)\n",
        "\n",
        "  # Apply updates to params\n",
        "  params = optax.apply_updates(params, updates)\n",
        "\n",
        "  return params, REINFORCELearnState(new_optim_state) # update learner state"
      ]
    },
    {
      "cell_type": "markdown",
      "metadata": {
        "id": "5an3U2NhRKgG"
      },
      "source": [
        "### Цикл обучения REINFORCE\n",
        "Теперь мы можем обучить нашего агента REINFORCE, собрав все воедино с помощью цикла обучения."
      ]
    },
    {
      "cell_type": "code",
      "execution_count": 56,
      "metadata": {
        "id": "vioIcVGsRjM5",
        "colab": {
          "base_uri": "https://localhost:8080/",
          "height": 698
        },
        "outputId": "5f90f690-8f1b-4c58-b9fa-05bbaa0975d7"
      },
      "outputs": [
        {
          "output_type": "stream",
          "name": "stdout",
          "text": [
            "Starting training. This may take up to 10 minutes to complete.\n",
            "Episode: 0\tEpisode Return: 12.0\tAverage Episode Return: 12.0\tEvaluator Episode Return: 20.125\n",
            "Episode: 100\tEpisode Return: 18.0\tAverage Episode Return: 34.8\tEvaluator Episode Return: 34.375\n",
            "Episode: 200\tEpisode Return: 94.0\tAverage Episode Return: 156.25\tEvaluator Episode Return: 162.625\n",
            "Episode: 300\tEpisode Return: 151.0\tAverage Episode Return: 151.35\tEvaluator Episode Return: 154.5\n",
            "Episode: 400\tEpisode Return: 45.0\tAverage Episode Return: 179.45\tEvaluator Episode Return: 175.5\n",
            "Episode: 500\tEpisode Return: 200.0\tAverage Episode Return: 194.45\tEvaluator Episode Return: 192.875\n",
            "Episode: 600\tEpisode Return: 200.0\tAverage Episode Return: 186.45\tEvaluator Episode Return: 195.125\n",
            "Episode: 700\tEpisode Return: 156.0\tAverage Episode Return: 186.45\tEvaluator Episode Return: 186.25\n",
            "Episode: 800\tEpisode Return: 200.0\tAverage Episode Return: 192.05\tEvaluator Episode Return: 185.875\n",
            "Episode: 900\tEpisode Return: 200.0\tAverage Episode Return: 186.6\tEvaluator Episode Return: 200.0\n",
            "Episode: 1000\tEpisode Return: 165.0\tAverage Episode Return: 192.3\tEvaluator Episode Return: 187.375\n"
          ]
        },
        {
          "output_type": "display_data",
          "data": {
            "text/plain": [
              "<Figure size 640x480 with 1 Axes>"
            ],
            "image/png": "[encoded data removed]"
          },
          "metadata": {}
        }
      ],
      "source": [
        "# JIT the choose_action and learn functions for more speed\n",
        "REINFORCE_learn_jit = jax.jit(REINFORCE_learn)\n",
        "REINFORCE_choose_action_jit = jax.jit(REINFORCE_choose_action)\n",
        "\n",
        "# Initial learn state\n",
        "REINFORCE_learn_state = REINFORCELearnState(REINFORCE_optim_state)\n",
        "\n",
        "# Run training loop\n",
        "print(\"Starting training. This may take up to 10 minutes to complete.\")\n",
        "episode_returns, evaluator_returns = run_training_loop(\n",
        "                                        env_name,\n",
        "                                        REINFORCE_params,\n",
        "                                        REINFORCE_choose_action_jit,\n",
        "                                        None, # action state not used\n",
        "                                        REINFORCE_learn_jit,\n",
        "                                        REINFORCE_learn_state,\n",
        "                                        REINFORCE_memory,\n",
        "                                        num_episodes=1001,\n",
        "                                        learn_steps_per_episode=2,\n",
        "                                        video_subdir=\"reinforce\"\n",
        "                                      )\n",
        "\n",
        "# Plot the episode returns\n",
        "plt.plot(episode_returns)\n",
        "plt.xlabel(\"Episode\")\n",
        "plt.ylabel(\"Episode Return\")\n",
        "plt.title(\"REINFORCE\")\n",
        "plt.show()\n"
      ]
    },
    {
      "cell_type": "code",
      "execution_count": 58,
      "metadata": {
        "id": "caKL3ngNr_Yh",
        "colab": {
          "base_uri": "https://localhost:8080/",
          "height": 288
        },
        "outputId": "a2374529-32e3-4c6e-fb10-9cae0d1f2ad2"
      },
      "outputs": [
        {
          "output_type": "execute_result",
          "data": {
            "text/plain": [
              "<IPython.core.display.HTML object>"
            ],
            "text/html": [
              "\n",
              "<video width=400 controls>\n",
              "      <source src=\"data:video/mp4;base64,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\" type=\"video/mp4\">\n",
              "</video>\n"
            ]
          },
          "metadata": {},
          "execution_count": 58
        }
      ],
      "source": [
        "#@title Визуализация {display-mode: \"form\"}\n",
        "#@markdown Выберите номер эпизода, менее или равного 1000, и **run this cell**.\n",
        "\n",
        "episode_number = 1000 #@param {type:\"number\"}\n",
        "\n",
        "assert (episode_number % 100) == 0, \"Episode number must be a multiple of 100 since we only record every 100th episode.\"\n",
        "assert episode_number < 1001, \"Episode number must be less than or equal to 1000\"\n",
        "\n",
        "eval_episode_number = int(episode_number / 100 * 8)\n",
        "video_path = f\"./video/reinforce/eval/rl-video-episode-{eval_episode_number}.mp4\"\n",
        "\n",
        "mp4 = open(video_path,'rb').read()\n",
        "data_url = \"data:video/mp4;base64,\" + b64encode(mp4).decode()\n",
        "HTML(\"\"\"\n",
        "<video width=400 controls>\n",
        "      <source src=\"%s\" type=\"video/mp4\">\n",
        "</video>\n",
        "\"\"\" % data_url)"
      ]
    },
    {
      "cell_type": "markdown",
      "metadata": {
        "id": "D_HHzFTOc-Qr"
      },
      "source": [
        "## 4. Q-Learning\n",
        "Другим распространенным подходом к поиску оптимальной политики в среде с использованием RL является Q-обучение."
      ]
    },
    {
      "cell_type": "markdown",
      "metadata": {
        "id": "lF1nOZrUSzhE"
      },
      "source": [
        "### Функция значения состояния-действия\n",
        "В Q-обучении агент изучает функцию, которая аппроксимирует **значение** пар состояние-действие. Под *значением* мы подразумеваем отдачу, которую вы ожидаете получить, если начнете в определенном состоянии $s_t$, выполните определенное действие $a_t$, а затем будете действовать в соответствии с определенной политикой $\\pi$ навсегда. Функция значения состояния-действия политики $\\pi$ задается как\n",
        "\n",
        "$Q_\\pi(s,a)=\\mathrm{E}_{\\tau\\sim\\pi}\\left[R(\\tau) \\mid s_0=s,\\ a_t=a\\right]$.\n",
        "\n",
        "Мы говорим, что функция значения $Q_\\pi(s,a)$ является **оптимальной** функцией значения, если политика $\\pi$ является оптимальной политикой. Обозначим функцию оптимального значения следующим образом:\n",
        "\n",
        "$Q_\\ast(s,a)=\\max \\limits_\\pi \\ \\mathrm{E}_{\\tau\\sim\\pi}\\left[R(\\tau) \\mid s_0=s,\\ a_0=a\\right]$\n",
        "\n",
        "Существует важная связь между оптимальным действием $a_\\ast$ в состоянии $s$ и оптимальной функцией значения состояния-действия $Q_\\ast$. А именно, оптимальное действие $a_\\ast$ в состоянии $s$ равно действию, которое максимизирует оптимальную функцию значения состояния-действия. Эта связь естественным образом индуцирует оптимальную политику:\n",
        "\n",
        "$\\pi_\\ast(s)=\\arg \\max \\limits_a\\ Q_\\ast(s, a)$"
      ]
    },
    {
      "cell_type": "markdown",
      "metadata": {
        "id": "H2x2tqvZSihz"
      },
      "source": [
        "### Greedy action selection (Жадный выбор действия)\n",
        "\n",
        "**Упражнение 10:** Давайте реализуем функцию, которая, учитывая вектор Q-значений, возвращает действие с наибольшим Q-значением (т. е. жадное действие).\n",
        "\n",
        "**Useful methods:**\n",
        "*   `jax.numpy.argmax` ([docs](https://jax.readthedocs.io/en/latest/_autosummary/jax.numpy.argmax.html))"
      ]
    },
    {
      "cell_type": "code",
      "execution_count": 59,
      "metadata": {
        "id": "Nn9P1YdzTIDU"
      },
      "outputs": [],
      "source": [
        "# Implement a function takes q-values as input and returns the greedy_action\n",
        "def select_greedy_action(q_values):\n",
        "\n",
        "  # YOUR CODE\n",
        "  action = jax.numpy.argmax(q_values)\n",
        "  # END YOUR CODE\n",
        "\n",
        "  return action"
      ]
    },
    {
      "cell_type": "code",
      "execution_count": 60,
      "metadata": {
        "id": "ZBzLr_G7QKXR",
        "colab": {
          "base_uri": "https://localhost:8080/"
        },
        "outputId": "5d21907a-a577-4d2c-bf29-b9d63cd70c1c"
      },
      "outputs": [
        {
          "output_type": "stream",
          "name": "stdout",
          "text": [
            "Looks good.\n"
          ]
        }
      ],
      "source": [
        "# @title Проверка упр 10 (run me) {display-mode: \"form\"}\n",
        "\n",
        "try:\n",
        "  q_values = jnp.array([1,1,3,4])\n",
        "  action = select_greedy_action(q_values)\n",
        "\n",
        "  if action != 3:\n",
        "    print(\"Incorrect answer, your greedy action selector looks wrong\")\n",
        "  else:\n",
        "    print(\"Looks good.\")\n",
        "except Exception as e:\n",
        "  print(\"An Error Occured: {}\".format(e))\n"
      ]
    },
    {
      "cell_type": "markdown",
      "metadata": {
        "id": "PFQUlqZ4ZyLp"
      },
      "source": [
        "### Q-Network\n",
        "В отличие от подхода с градиентом политики из предыдущего раздела, в Q-обучении и других методах RL на основе значений нам не нужна параметризация для политики, вместо этого мы параметризуем Q-функцию с помощью нейронной сети $Q_\\theta$. Мы получаем политику из Q-сети, всегда выбирая действие с *наибольшим* значением:\n",
        "\n",
        "$\\hat{\\pi}_\\theta(s)=\\arg \\max \\limits_a\\ Q_{\\theta}(s, a)$\n",
        "\n",
        "Как и ранее, мы будем использовать хайку для создания нейронной сети для аппроксимации этой Q-функции. Сеть будет принимать наблюдение в качестве входных данных, а затем выводить Q-значение для каждого из доступных действий. Таким образом, в случае CartPole выход сети будет иметь размер $2$."
      ]
    },
    {
      "cell_type": "code",
      "execution_count": 61,
      "metadata": {
        "id": "9wU1soJYZyLp"
      },
      "outputs": [],
      "source": [
        "def build_network(num_actions: int, layers=[20, 20]) -> hk.Transformed:\n",
        "  \"\"\"Factory for a simple MLP network for approximating Q-values.\"\"\"\n",
        "\n",
        "  def q_network(obs):\n",
        "    network = hk.Sequential(\n",
        "        [hk.Flatten(),\n",
        "         hk.nets.MLP(layers + [num_actions])])\n",
        "    return network(obs)\n",
        "\n",
        "  return hk.without_apply_rng(hk.transform(q_network))"
      ]
    },
    {
      "cell_type": "markdown",
      "metadata": {
        "id": "sUwG-4qTS1zx"
      },
      "source": [
        "Давайте инициализируем нашу Q-сеть и получим начальные параметры."
      ]
    },
    {
      "cell_type": "code",
      "execution_count": 62,
      "metadata": {
        "id": "1uvq5n2cS9lu",
        "colab": {
          "base_uri": "https://localhost:8080/"
        },
        "outputId": "e5571c69-a595-40c0-b6ba-085510952a08"
      },
      "outputs": [
        {
          "output_type": "stream",
          "name": "stdout",
          "text": [
            "Q-Learning params: dict_keys(['mlp/~/linear_0', 'mlp/~/linear_1', 'mlp/~/linear_2'])\n"
          ]
        }
      ],
      "source": [
        "# Initialise Q-network\n",
        "Q_NETWORK = build_network(num_actions=num_actions, layers=[20, 20]) # two actions\n",
        "\n",
        "dummy_obs = jnp.zeros((1,*obs_shape), jnp.float32) # a dummy observation like the one in CartPole\n",
        "\n",
        "random_key = jax.random.PRNGKey(42) # random key\n",
        "Q_NETWORK_PARAMS = Q_NETWORK.init(random_key, dummy_obs) # Get initial params\n",
        "\n",
        "print(\"Q-Learning params:\", Q_NETWORK_PARAMS.keys())"
      ]
    },
    {
      "cell_type": "markdown",
      "metadata": {
        "id": "iqCUeZfhEfyP"
      },
      "source": [
        "Прежде чем мы реализуем функцию потерь, необходимую для обучения нашей Q-сети, давайте сначала обсудим интуицию, стоящую за ней."
      ]
    },
    {
      "cell_type": "markdown",
      "metadata": {
        "id": "vbLig3uSZyLp"
      },
      "source": [
        "### The Bellman Equations (Уравнения Беллмана)\n",
        "Функция значения может быть записана рекурсивно как:\n",
        "\n",
        "$Q_{\\pi}(s, a) =\\underset{s^{\\prime} \\sim P}{\\mathrm{E}}\\left[r(s, a)+ \\underset{a^{\\prime} \\sim \\pi}{\\mathrm{E}}\\left[Q_{\\pi}\\left(s^{\\prime}, a^{\\prime}\\right)\\right]\\right]$,\n",
        "\n",
        "где $s' \\sim P$ — это сокращение для обозначения того, что следующее состояние $s'$ выбирается из функции перехода среды $P(s'\\mid s,a)$. Интуитивно это уравнение говорит, что ценность действия $a$, которое вы предприняли в состоянии $s$, равна вознаграждению $r$, которое вы ожидаете получить, плюс ценность, которую вы ожидаете получить в следующем состоянии $s`$, в котором вы окажетесь, при условии, что вы выберете свое следующее действие $a`$ с политикой $\\pi$. Уравнение Беллмана для оптимальной функции ценности выглядит так:\n",
        "\n",
        "$Q_{*}(s, a) =\\underset{s^{\\prime} \\sim P}{\\mathrm{E}}\\left[r(s, a)+\\ \\underset{a^{\\prime}}{\\max}\\ Q_{*}(s^{\\prime}, a^{\\prime})\\right]$\n",
        "\n",
        "Обратите внимание, что вместо выбора вашего следующего действия $a`$ с политикой $\\pi$ мы выбираем действие с наибольшим значением Q.\n",
        "\n",
        "Более подробное обсуждение уравнений Беллмана можно найти на сайте [OpenAI Spinning Up](https://spinningup.openai.com/en/latest/spinningup/rl_intro.html)."
      ]
    },
    {
      "cell_type": "markdown",
      "metadata": {
        "id": "DsOJi5G8ZyLp"
      },
      "source": [
        "### The Bellman Backup (Резервное копирование Беллмана)\n",
        "\n",
        "Чтобы научиться аппроксимировать оптимальную функцию Q-значения, мы можем использовать правую часть уравнения Беллмана в качестве правила обновления. Другими словами, предположим, что у нас есть Q-сеть $Q_\\theta$, аппроксимированная с использованием параметров $\\theta$, тогда мы можем итеративно обновлять параметры таким образом, что\n",
        "\n",
        "$Q_\\theta(s,a)\\leftarrow r(s, a) + \\underset{a'}{\\max}\\ Q_\\theta(s', a')$.\n",
        "\n",
        "Интуитивно это означает, что аппроксимация Q-значения действия $a$ в состоянии $s$ должна быть обновлена ​​таким образом, чтобы она была ближе к равной вознаграждению, полученному от среды $r(s, a)$, плюс значение наилучшего возможного действия в следующем состоянии $s'$. Мы можем выполнить эту оптимизацию, минимизируя разницу между левой и правой частью относительно параметров $\\theta$, используя градиентный спуск. Мы можем измерить разницу между двумя значениями, используя [квадратичную ошибку](https://en.wikipedia.org/wiki/Mean_squared_error#Loss_function).\n",
        "\n",
        "**Упражнение 11:** Реализуйте функцию квадратичной ошибки.\n",
        "\n",
        "**Полезные функции**\n",
        "* `jax.numpy.square` ([docs](https://jax.readthedocs.io/en/latest/_autosummary/jax.numpy.square.html))"
      ]
    },
    {
      "cell_type": "code",
      "execution_count": 65,
      "metadata": {
        "id": "PTto__ohZyLp"
      },
      "outputs": [],
      "source": [
        "def compute_squared_error(pred, target):\n",
        "  # YOUR CODE\n",
        "  squared_error = jax.numpy.square(pred-target)\n",
        "  # END YOUR CODE\n",
        "\n",
        "  return squared_error"
      ]
    },
    {
      "cell_type": "code",
      "execution_count": 66,
      "metadata": {
        "id": "wGhX8XTFVPVU",
        "colab": {
          "base_uri": "https://localhost:8080/"
        },
        "outputId": "5d782ffe-8477-4795-a209-ecdcf04443a0"
      },
      "outputs": [
        {
          "output_type": "stream",
          "name": "stdout",
          "text": [
            "Looks good.\n"
          ]
        }
      ],
      "source": [
        "#@title Проверка упр 11 {display-mode: \"form\"}\n",
        "\n",
        "try:\n",
        "  result = compute_squared_error(1, 4)\n",
        "\n",
        "  if result != 9:\n",
        "    print(\"Your implementation looks wrong.\")\n",
        "  else:\n",
        "    print(\"Looks good.\")\n",
        "except Exception as e:\n",
        "  print(\"An Error Occured: {}\".format(e))"
      ]
    },
    {
      "cell_type": "markdown",
      "metadata": {
        "id": "ycpZVkgdZyLp"
      },
      "source": [
        "**Упражнение 12:** Реализуйте функцию, которая вычисляет **цель Беллмана** (правая часть уравнения Беллмана). Если эпизод находится на последнем временном шаге (т. е. done==1.0), то цель Беллмана должна быть равна награде, без дополнительного значения в конце.\n",
        "\n",
        "**Полезные функции**\n",
        "* `jax.numpy.max` ([docs](https://jax.readthedocs.io/en/latest/_autosummary/jax.numpy.max.html))"
      ]
    },
    {
      "cell_type": "code",
      "execution_count": 67,
      "metadata": {
        "id": "961_OllWZyLp"
      },
      "outputs": [],
      "source": [
        "# Bellman target\n",
        "def compute_bellman_target(reward, done, next_q_values):\n",
        "  \"\"\"A function to compute the bellman target.\n",
        "\n",
        "  Args:\n",
        "      reward: a scalar reward.\n",
        "      done: a scalar of value either 1.0 or 0.0, indicating if the transition is a terminal one.\n",
        "      next_q_values: a vector of q_values for the next state. One for each action.\n",
        "  Returns:\n",
        "      A scalar equal to the bellman target.\n",
        "\n",
        "  \"\"\"\n",
        "  # YOUR CODE\n",
        "  bellman_target = reward + (1.0 - done) * jax.numpy.max(next_q_values)\n",
        "  # END YOUR CODE\n",
        "\n",
        "  return bellman_target"
      ]
    },
    {
      "cell_type": "code",
      "execution_count": 68,
      "metadata": {
        "id": "E5RAhegOWAkC",
        "colab": {
          "base_uri": "https://localhost:8080/"
        },
        "outputId": "ccb36b22-e6be-458c-eb53-d2441ab582f5"
      },
      "outputs": [
        {
          "output_type": "stream",
          "name": "stdout",
          "text": [
            "Looks good.\n"
          ]
        }
      ],
      "source": [
        "#@title Проверка упр 12 {display-mode: \"form\"}\n",
        "\n",
        "try:\n",
        "  # not done\n",
        "  result1 = compute_bellman_target(1, 0.0, np.array([3,2], \"float32\"))\n",
        "\n",
        "  # done\n",
        "  result2 = compute_bellman_target(1, 1.0, np.array([3,2], \"float32\"))\n",
        "\n",
        "  if result1 != 4 or result2 != 1:\n",
        "    print(\"Your implementation looks wrong.\")\n",
        "  else:\n",
        "    print(\"Looks good.\")\n",
        "except Exception as e:\n",
        "  print(\"An Error Occured: {}\".format(e))"
      ]
    },
    {
      "cell_type": "markdown",
      "metadata": {
        "id": "8sIjrHSJZyLq"
      },
      "source": [
        "Теперь мы можем объединить эти две функции, чтобы вычислить потерю для Q-обучения. Потери Q-обучения равны квадрату разницы между прогнозируемым значением Q действия и его соответствующей целью Беллмана.\n",
        "\n",
        "**Упражнение 13:** Реализуйте функцию потери Q-обучения."
      ]
    },
    {
      "cell_type": "code",
      "execution_count": 69,
      "metadata": {
        "id": "LJY_kpFcZyLq"
      },
      "outputs": [],
      "source": [
        "def q_learning_loss(q_values, action, reward, done, next_q_values):\n",
        "    \"\"\"Implementation of the Q-learning loss.T\n",
        "\n",
        "    Args:\n",
        "        q_values: a vector of Q-values, one for each action.\n",
        "        action: an integer, giving the action that was chosen. q_values[action] is the value of the chose action.\n",
        "        done: is a scalar that indicates if this is a terminal transition.\n",
        "        next_q_values: a vector of Q-values in the next state.\n",
        "    Returns:\n",
        "        The squared difference between the q_value of the chosen action and the bellman target.\n",
        "    \"\"\"\n",
        "    # YOUR CODE\n",
        "    chosen_action_q_value = q_values[action] # q_value of action, use array indexing\n",
        "    bellman_target =  compute_bellman_target(reward, done, next_q_values)\n",
        "    squared_error = compute_squared_error(chosen_action_q_value, bellman_target)\n",
        "    # END YOUR CODE\n",
        "\n",
        "    return squared_error"
      ]
    },
    {
      "cell_type": "code",
      "execution_count": 70,
      "metadata": {
        "id": "1aZRn1qaWx2M",
        "colab": {
          "base_uri": "https://localhost:8080/"
        },
        "outputId": "46a5931f-3448-4f29-f29b-9f8891d75a30"
      },
      "outputs": [
        {
          "output_type": "stream",
          "name": "stdout",
          "text": [
            "Looks good.\n"
          ]
        }
      ],
      "source": [
        "#@title Проверка упр 13 {display-mode: \"form\"}\n",
        "\n",
        "try:\n",
        "  result = q_learning_loss(np.array([3,2], \"float32\"), 1, 2, 0.0, np.array([3,2], \"float32\"))\n",
        "\n",
        "  if result != 9.0:\n",
        "    print(\"Your implementation looks wrong.\")\n",
        "  else:\n",
        "    print(\"Looks good.\")\n",
        "except Exception as e:\n",
        "  print(\"An Error Occured: {}\".format(e))"
      ]
    },
    {
      "cell_type": "markdown",
      "metadata": {
        "id": "b4YnSUfJZyLq"
      },
      "source": [
        "### Target Q-network (Целевая Q-сеть)\n",
        "Обратите внимание: когда мы вычисляем цель Беллмана, мы используем нашу Q-сеть $Q_\\theta$ для вычисления значения для следующего состояния $s_t$. По сути, мы используем наше последнее приближение Q-функции для вычисления цели нашего следующего приближения. Использование приближения для вычисления цели для вашего следующего приближения называется самозагрузкой. К сожалению, если мы наивно делаем такую ​​самозагрузку, это может сделать обучение нейронной сети очень нестабильным. Чтобы смягчить это, мы можем вместо этого использовать другой набор параметров $\\hat{\\theta}$ для вычисления значений в состоянии $s_{t+1}$. Мы будем сохранять параметры $\\hat{\\theta}$ фиксированными и только периодически обновлять их, чтобы они были равны последним онлайн-параметрам $\\theta$ каждые пару шагов обучения *(скажем, 100)*. Это позволяет сохранять фиксированные цели Беллмана для пары шагов обучения, чтобы помочь снизить нестабильность из-за самозагрузки.\n",
        "\n",
        "Нам нужно будет отслеживать последние (онлайн) параметры, а также параметры целевых сетей. Давайте создадим `NamedTuple` для хранения этих двух значений. Нам также нужно будет отслеживать количество шагов обучения, которые мы сделали, чтобы знать, когда обновлять целевую сеть. Давайте сохраним `count` шагов обучения в `learn_state`."
      ]
    },
    {
      "cell_type": "code",
      "execution_count": 71,
      "metadata": {
        "id": "DvZqUKmq6L7k"
      },
      "outputs": [],
      "source": [
        "# Store online and target parameters\n",
        "QLearnParams = collections.namedtuple(\"Params\", [\"online\", \"target\"])\n",
        "\n",
        "# Q-learn-state\n",
        "QLearnState = collections.namedtuple(\"LearnerState\", [\"count\", \"optim_state\"])"
      ]
    },
    {
      "cell_type": "markdown",
      "metadata": {
        "id": "CJWH2_kNZsau"
      },
      "source": [
        "Мы снова будем использовать Optax для оптимизации нашей нейронной сети в JAX. Мы сохраняем состояние оптимизатора в `learn_state` выше. Давайте теперь создадим экземпляр оптимизатора и добавим начальные параметры Q-сети в объект `QLearnParams`."
      ]
    },
    {
      "cell_type": "code",
      "execution_count": 72,
      "metadata": {
        "id": "HwqKTN6BaAXE"
      },
      "outputs": [],
      "source": [
        "# Initialise Q-network optimizer\n",
        "Q_LEARN_OPTIMIZER = optax.adam(3e-4) # learning rate\n",
        "\n",
        "Q_LEARN_OPTIM_STATE = Q_LEARN_OPTIMIZER.init(Q_NETWORK_PARAMS) # initial optim state\n",
        "\n",
        "# Create Learn State\n",
        "Q_LEARNING_LEARN_STATE = QLearnState(0, Q_LEARN_OPTIM_STATE) # count set to zero initially\n",
        "\n",
        "# Add initial Q-network weights to QLearnParams object\n",
        "Q_LEARNING_PARAMS = QLearnParams(online=Q_NETWORK_PARAMS, target=Q_NETWORK_PARAMS) # target equal to online"
      ]
    },
    {
      "cell_type": "markdown",
      "metadata": {
        "id": "xj89M8LgZlFe"
      },
      "source": [
        "Теперь мы можем реализовать простую функцию, которая обновляет параметры целевых сетей, чтобы они соответствовали последним онлайн-параметрам каждые 100 шагов обучения."
      ]
    },
    {
      "cell_type": "code",
      "execution_count": 73,
      "metadata": {
        "id": "SKrg_3rO6cCL"
      },
      "outputs": [],
      "source": [
        "def update_target_params(learn_state, online_weights, target_weights):\n",
        "  \"\"\"A function to update target params every 100 training steps\"\"\"\n",
        "\n",
        "  target = jax.lax.cond(\n",
        "      jax.numpy.mod(learn_state.count, 100) == 0,\n",
        "      lambda x, y: x,\n",
        "      lambda x, y: y,\n",
        "      online_weights,\n",
        "      target_weights\n",
        "  )\n",
        "\n",
        "  params = QLearnParams(online_weights, target)\n",
        "\n",
        "  return params"
      ]
    },
    {
      "cell_type": "markdown",
      "metadata": {
        "id": "KoiaYSo9ZyLq"
      },
      "source": [
        "### Q-learning loss (Функция потери Q-обучения)\n",
        "Теперь у нас есть все необходимое для реализации функции `q_learn`, которая принимает некоторую партию переходов и выполняет шаг Q-обучения для обновления параметров сети. Но сначала мы используем `jax.vmap` для изменения функции `q_learning_loss` так, чтобы она принимала партии переходов. Кроме того, мы вычислим Q-значения, передавая наблюдения через `Q_NETWORK`, и целевые Q-значения, используя целевые параметры `Q_NETWORK`."
      ]
    },
    {
      "cell_type": "code",
      "execution_count": 74,
      "metadata": {
        "id": "hnrsGppWZyLq"
      },
      "outputs": [],
      "source": [
        "def batched_q_learning_loss(online_params, target_params, obs, actions, rewards, next_obs, dones):\n",
        "    q_values = Q_NETWORK.apply(online_params, obs) # use the online parameters\n",
        "    next_q_values = Q_NETWORK.apply(target_params, next_obs) # use the target parameters\n",
        "    squared_error = jax.vmap(q_learning_loss)(q_values, actions, rewards, dones, next_q_values) # vmap q_learning_loss\n",
        "    mean_squared_error = jnp.mean(squared_error) # mean squared error over batch\n",
        "    return mean_squared_error"
      ]
    },
    {
      "cell_type": "markdown",
      "metadata": {
        "id": "CU8vo9ZebnEa"
      },
      "source": [
        "Теперь мы можем создать функцию `q_learn`, которая вычисляет градиент `batched_q_learning_loss`, а затем использует оптимизатор Optax для обновления весов сети, а затем, наконец (возможно), обновляет целевые параметры."
      ]
    },
    {
      "cell_type": "code",
      "execution_count": 75,
      "metadata": {
        "id": "6BYoX2W_ZyLr"
      },
      "outputs": [],
      "source": [
        "def q_learn(rng, params, learner_state, memory):\n",
        "  # Compute gradients\n",
        "  grad_loss = jax.grad(batched_q_learning_loss)(params.online, params.target, memory.obs,\n",
        "                                          memory.action, memory.reward,\n",
        "                                          memory.next_obs, memory.done,\n",
        "                                          ) # jax.grad\n",
        "\n",
        "  # Get updates\n",
        "  updates, opt_state = Q_LEARN_OPTIMIZER.update(grad_loss, learner_state.optim_state)\n",
        "\n",
        "  # Apply them\n",
        "  new_weights = optax.apply_updates(params.online, updates)\n",
        "\n",
        "  # Maybe update target network\n",
        "  params = update_target_params(learner_state, new_weights, params.target)\n",
        "\n",
        "  # Increment learner step counter\n",
        "  learner_state = QLearnState(learner_state.count + 1, opt_state)\n",
        "\n",
        "  return params, learner_state"
      ]
    },
    {
      "cell_type": "markdown",
      "metadata": {
        "id": "VpZsKHssZyLq"
      },
      "source": [
        "### Replay Buffer (Буфер воспроизведения)\n",
        "Для Q-обучения нам понадобится память агента, которая хранит целые переходы: `obs`, `action`, `reward`, `next_obs`, `done`. Когда мы извлекаем переходы из памяти, они должны выбираться случайным образом из всех переходов, собранных до сих пор. В RL мы часто называем такой модуль **буфером воспроизведения**.\n",
        "\n",
        "Одним из преимуществ использования такого буфера воспроизведения является то, что опыт можно повторно использовать несколько раз для обучения, в отличие от алгоритма градиента политики REINFORCE, где мы отбрасывали воспоминания после их использования для обучения."
      ]
    },
    {
      "cell_type": "code",
      "execution_count": 76,
      "metadata": {
        "id": "8tv5dUH6ZyLr"
      },
      "outputs": [],
      "source": [
        "class TransitionMemory(object):\n",
        "  \"\"\"A simple Python replay buffer.\"\"\"\n",
        "\n",
        "  def __init__(self, max_size=10_000, batch_size=256):\n",
        "    self.batch_size = batch_size\n",
        "    self.buffer = collections.deque(maxlen=max_size)\n",
        "\n",
        "  def push(self, transition):\n",
        "\n",
        "    # add transition to the replay buffer\n",
        "    self.buffer.append(\n",
        "        (transition.obs, transition.action, transition.reward,\n",
        "          transition.next_obs, transition.done)\n",
        "    )\n",
        "\n",
        "\n",
        "  def is_ready(self):\n",
        "    return self.batch_size <= len(self.buffer)\n",
        "\n",
        "  def sample(self):\n",
        "    # Randomly sample a batch of transitions from the buffer\n",
        "    random_replay_sample = random.sample(self.buffer, self.batch_size)\n",
        "\n",
        "    # Batch the transitions together\n",
        "    obs_batch, action_batch, reward_batch, next_obs_batch, done_batch = zip(*random_replay_sample)\n",
        "\n",
        "    return Transition(\n",
        "        np.stack(obs_batch).astype(\"float32\"),\n",
        "        np.asarray(action_batch).astype(\"int32\"),\n",
        "        np.asarray(reward_batch).astype(\"float32\"),\n",
        "        np.stack(next_obs_batch).astype(\"float32\"),\n",
        "        np.asarray(done_batch).astype(\"float32\")\n",
        "    )\n",
        "\n",
        "# Instantiate the memory\n",
        "Q_LEARNING_MEMORY = TransitionMemory(max_size=50_000, batch_size=256)"
      ]
    },
    {
      "cell_type": "markdown",
      "metadata": {
        "id": "XbHk03VVUHAV"
      },
      "source": [
        "### Случайное исследование\n",
        "У нас почти есть все, что нужно для функционирующего агента Q-обучения. Но одна проблема заключается в том, что если мы всегда выбираем действие с наивысшим значением Q, то политика агента будет полностью [детерминированной](https://www.quora.com/What-is-the-intuitive-difference-between-a-stochastic-model-and-a-deterministic-model). Это означает, что агент всегда будет выбирать одну и ту же стратегию. Это может представлять проблему, поскольку в начале обучения Q-сеть будет очень неточной (т. е. плохой аппроксимацией истинной Q-функции). Таким образом, агент будет последовательно выбирать неоптимальные действия. Более того, агент никогда не отклонится от своей неоптимальной стратегии и никогда не обнаружит новые, потенциально более полезные действия. В результате Q-сеть остается неточной. В идеале агент должен опробовать много разных стратегий, чтобы он мог наблюдать результаты (вознаграждения) своих действий в разных состояниях и таким образом улучшить приближение Q-функции.\n",
        "\n",
        "Один простой способ гарантировать, что агент опробует много разных действий, — позволить ему периодически выбирать некоторые случайные действия вместо жадного (лучшего) действия все время.\n",
        "\n",
        "**Упражнение 14:** Реализуйте функцию, которая, учитывая количество возможных (дискретных) действий, возвращает случайное действие.\n",
        "\n",
        "**Полезные методы:**\n",
        "\n",
        "*  `jax.random.randint` ([docs](https://jax.readthedocs.io/en/latest/_autosummary/jax.random.randint.html))"
      ]
    },
    {
      "cell_type": "code",
      "execution_count": 83,
      "metadata": {
        "id": "uUKkpMLXUtko"
      },
      "outputs": [],
      "source": [
        "def select_random_action(key, num_actions):\n",
        "\n",
        "    # YOUR CODE\n",
        "    action = jax.random.randint(key, shape=(), minval=0, maxval=num_actions)\n",
        "    # END YOUR CODE\n",
        "\n",
        "    return action"
      ]
    },
    {
      "cell_type": "code",
      "execution_count": 84,
      "metadata": {
        "id": "NO6va6S2Y40E",
        "colab": {
          "base_uri": "https://localhost:8080/"
        },
        "outputId": "8fc8ec6f-a997-45da-8226-11487f5f6625"
      },
      "outputs": [
        {
          "output_type": "stream",
          "name": "stdout",
          "text": [
            "Looks good.\n"
          ]
        }
      ],
      "source": [
        "#@title Проверка упр 14 {display-mode: \"form\"}\n",
        "\n",
        "try:\n",
        "  random_key1 = random_key = jax.random.PRNGKey(6) # random key\n",
        "  random_key2 = random_key = jax.random.PRNGKey(1000) # random key\n",
        "  result1 = select_random_action(random_key1, 2)\n",
        "  result2 = select_random_action(random_key2, 2)\n",
        "\n",
        "  if result1 != 1 or result2 != 0:\n",
        "    print(\"Your implementation looks wrong.\")\n",
        "  else:\n",
        "    print(\"Looks good.\")\n",
        "except:\n",
        "  print(\"Your implementation looks wrong.\")"
      ]
    },
    {
      "cell_type": "markdown",
      "metadata": {
        "id": "8-kKDFT6XU6y"
      },
      "source": [
        "### $\\varepsilon$-greedy action selection (эпсилон жадный выбор действия)\n",
        "В начале обучения, когда точность Q-сети низкая, агенту стоит в основном совершать случайные действия, чтобы он мог узнать, насколько хороши/плохи действия. Однако по мере повышения точности Q-сети агент должен начать совершать меньше случайных действий и вместо этого начать выбирать жадные действия относительно Q-значений. Выбор лучших действий с учетом текущей Q-сети называется **эксплуатацией**. В RL мы часто называем отношение случайных и жадных действий **эпсилоном** $\\varepsilon$. Эпсилон обычно представляет собой десятичное значение в интервале $[0,1]$, где, например, $\\varepsilon=0.4$ означает, что агент выбирает случайное действие в 40% случаев, а жадное действие — в 60% случаев. В RL принято линейно уменьшать значение эпсилон с течением времени, так что агент становится все более жадным по мере повышения точности его Q-сети в процессе обучения.\n",
        "\n",
        "**Упражнение 15:** Реализуйте функцию, которая принимает количество временных шагов в качестве входных данных и возвращает текущее значение эпсилон."
      ]
    },
    {
      "cell_type": "code",
      "execution_count": 85,
      "metadata": {
        "id": "_qejnbCocurG"
      },
      "outputs": [],
      "source": [
        "EPSILON_DECAY_TIMESTEPS = 3000 # decay epsilon over 3000 timesteps\n",
        "EPSILON_MIN = 0.1 # 10% exploration"
      ]
    },
    {
      "cell_type": "code",
      "execution_count": 86,
      "metadata": {
        "id": "5ujSbssCZyLs"
      },
      "outputs": [],
      "source": [
        "def get_epsilon(num_timesteps):\n",
        "  # YOUR CODE\n",
        "  epsilon = 1.0 - num_timesteps/EPSILON_DECAY_TIMESTEPS # decay epsilon\n",
        "\n",
        "  epsilon = jax.lax.select(\n",
        "      epsilon < EPSILON_MIN,\n",
        "      EPSILON_MIN, # if less than min then set to min\n",
        "      epsilon # else don't change epsilon\n",
        "  )\n",
        "  # END YOUR CODE\n",
        "\n",
        "  return epsilon"
      ]
    },
    {
      "cell_type": "code",
      "execution_count": 87,
      "metadata": {
        "id": "hvu4zA64aUou",
        "colab": {
          "base_uri": "https://localhost:8080/"
        },
        "outputId": "a3696364-ef95-404e-fad8-5a7a82e46361"
      },
      "outputs": [
        {
          "output_type": "stream",
          "name": "stdout",
          "text": [
            "Your function looks correct.\n"
          ]
        }
      ],
      "source": [
        "#@title Проверка упр 15 {display-mode: \"form\"}\n",
        "def check_get_epsilon(get_epsilon):\n",
        "  try:\n",
        "    result1 = get_epsilon(10)\n",
        "    result2 = get_epsilon(5_010)\n",
        "\n",
        "    if result1 != 0.99666667 or result2 != 0.1:\n",
        "      print(\"Your function looks wrong.\")\n",
        "    else:\n",
        "      print(\"Your function looks correct.\")\n",
        "  except:\n",
        "    print(\"Your function looks wrong.\")\n",
        "\n",
        "check_get_epsilon(get_epsilon)\n"
      ]
    },
    {
      "cell_type": "markdown",
      "metadata": {
        "id": "t56oo58TVQ_s"
      },
      "source": [
        "**Упражнение 16:** Теперь давайте объединим эти функции для выполнения эпсилон-жадного выбора действия."
      ]
    },
    {
      "cell_type": "code",
      "execution_count": 88,
      "metadata": {
        "id": "NlQx8K4vKUXj"
      },
      "outputs": [],
      "source": [
        "def select_epsilon_greedy_action(key, q_values, num_timesteps):\n",
        "    num_actions = len(q_values) # number of available actions\n",
        "\n",
        "    # YOUR CODE HERE\n",
        "    epsilon = get_epsilon(num_timesteps) # get epsilon value\n",
        "\n",
        "    should_explore = jax.random.uniform(key, (1,))[0] < epsilon # hint: a boolean expression to check if some random number is less than epsilon\n",
        "\n",
        "    action = jax.lax.select(\n",
        "        should_explore,\n",
        "        select_random_action(key, num_actions), # if should explore\n",
        "        select_greedy_action(q_values) # if should be greedy\n",
        "    )\n",
        "    # END YOUR CODE\n",
        "\n",
        "    return action"
      ]
    },
    {
      "cell_type": "code",
      "execution_count": 89,
      "metadata": {
        "id": "mkVU2a5e7P6b",
        "colab": {
          "base_uri": "https://localhost:8080/"
        },
        "outputId": "1ef287a0-390e-4e74-dc5a-64040597d753"
      },
      "outputs": [
        {
          "output_type": "stream",
          "name": "stdout",
          "text": [
            "Looks correct!\n"
          ]
        }
      ],
      "source": [
        "#@title Проверка упражнения 16 {display-mode: \"form\"}\n",
        "\n",
        "try:\n",
        "  rng = hk.PRNGSequence(jax.random.PRNGKey(42))\n",
        "  dummy_q_values = jnp.array([0,1], jnp.float32)\n",
        "  num_timesteps = 5010 # very greedy\n",
        "  actions1 = []\n",
        "  for i in range(10):\n",
        "      actions1.append(int(select_epsilon_greedy_action(next(rng), dummy_q_values, num_timesteps)))\n",
        "\n",
        "  num_timesteps = 0 # completly random\n",
        "  actions2 = []\n",
        "  for i in range(10):\n",
        "      actions2.append(int(select_epsilon_greedy_action(next(rng), dummy_q_values, num_timesteps)))\n",
        "\n",
        "  if actions1 != [1, 1, 0, 1, 1, 0, 1, 1, 1, 1] or actions2 != [0, 0, 0, 1, 1, 1, 1, 0, 0, 0]:\n",
        "    print(\"Looks like something might be incorrect!\")\n",
        "  else:\n",
        "    print(\"Looks correct!\")\n",
        "except:\n",
        "  print(\"Looks like something might be incorrect!\")"
      ]
    },
    {
      "cell_type": "markdown",
      "metadata": {
        "id": "y5W23MnobN9x"
      },
      "source": [
        "### Действие выбора Q-learning\n",
        "\n",
        "Теперь у нас есть все необходимое для создания функции `q_learning_select_action`. Мы будем использовать `actor_state` для хранения счетчика, который отслеживает текущее количество временных шагов. Мы можем использовать счетчик для уменьшения нашего значения `epsilon`."
      ]
    },
    {
      "cell_type": "code",
      "execution_count": 90,
      "metadata": {
        "id": "81TysLc0RjM6"
      },
      "outputs": [],
      "source": [
        "# Actor state stores the current number of timesteps\n",
        "QActorState = collections.namedtuple(\"ActorState\", [\"count\"])\n",
        "\n",
        "def q_learning_select_action(key, params, actor_state, obs, evaluation=False):\n",
        "    obs = jnp.expand_dims(obs, axis=0) # add dummy batch dim\n",
        "    q_values = Q_NETWORK.apply(params.online, obs)[0] # remove batch dim\n",
        "\n",
        "    action = select_epsilon_greedy_action(key, q_values, actor_state.count)\n",
        "    greedy_action = select_greedy_action(q_values)\n",
        "\n",
        "    action = jax.lax.select(\n",
        "        evaluation,\n",
        "        greedy_action,\n",
        "        action\n",
        "    )\n",
        "\n",
        "    next_actor_state = QActorState(actor_state.count + 1) # increment timestep counter\n",
        "\n",
        "    return action, next_actor_state\n",
        "\n",
        "Q_LEARNING_ACTOR_STATE = QActorState(0) # counter set to zero"
      ]
    },
    {
      "cell_type": "markdown",
      "metadata": {
        "id": "z884-1oNRGEr"
      },
      "source": [
        "### Обучение\n",
        "Теперь мы можем собрать все вместе, используя цикл агент-среда. Но сначала давайте объединим функцию выбора действия и функцию обучения для дополнительной скорости."
      ]
    },
    {
      "cell_type": "code",
      "execution_count": 91,
      "metadata": {
        "id": "xbdHDbd1RjM8",
        "colab": {
          "base_uri": "https://localhost:8080/",
          "height": 698
        },
        "outputId": "983b1201-78f1-43fc-9472-88aa3eaafe53"
      },
      "outputs": [
        {
          "output_type": "stream",
          "name": "stdout",
          "text": [
            "Starting training. This may take up to 8 minutes to complete.\n",
            "Episode: 0\tEpisode Return: 16.0\tAverage Episode Return: 16.0\tEvaluator Episode Return: 9.25\n",
            "Episode: 100\tEpisode Return: 11.0\tAverage Episode Return: 13.05\tEvaluator Episode Return: 8.75\n",
            "Episode: 200\tEpisode Return: 10.0\tAverage Episode Return: 10.05\tEvaluator Episode Return: 9.875\n",
            "Episode: 300\tEpisode Return: 10.0\tAverage Episode Return: 10.5\tEvaluator Episode Return: 15.625\n",
            "Episode: 400\tEpisode Return: 11.0\tAverage Episode Return: 9.7\tEvaluator Episode Return: 9.25\n",
            "Episode: 500\tEpisode Return: 45.0\tAverage Episode Return: 73.7\tEvaluator Episode Return: 70.75\n",
            "Episode: 600\tEpisode Return: 200.0\tAverage Episode Return: 153.0\tEvaluator Episode Return: 96.875\n",
            "Episode: 700\tEpisode Return: 94.0\tAverage Episode Return: 137.4\tEvaluator Episode Return: 165.375\n",
            "Episode: 800\tEpisode Return: 200.0\tAverage Episode Return: 172.4\tEvaluator Episode Return: 175.375\n",
            "Episode: 900\tEpisode Return: 200.0\tAverage Episode Return: 189.05\tEvaluator Episode Return: 200.0\n",
            "Episode: 1000\tEpisode Return: 200.0\tAverage Episode Return: 70.8\tEvaluator Episode Return: 177.5\n"
          ]
        },
        {
          "output_type": "display_data",
          "data": {
            "text/plain": [
              "<Figure size 640x480 with 1 Axes>"
            ],
            "image/png": "[encoded data removed]"
          },
          "metadata": {}
        }
      ],
      "source": [
        "# Jit functions\n",
        "q_learning_select_action_jit = jax.jit(q_learning_select_action)\n",
        "q_learn_jit = jax.jit(q_learn)\n",
        "\n",
        "# Run environment loop\n",
        "print(\"Starting training. This may take up to 8 minutes to complete.\")\n",
        "episode_returns, evaluator_returns = run_training_loop(\n",
        "                                        env_name,\n",
        "                                        Q_LEARNING_PARAMS,\n",
        "                                        q_learning_select_action_jit,\n",
        "                                        Q_LEARNING_ACTOR_STATE,\n",
        "                                        q_learn_jit,\n",
        "                                        Q_LEARNING_LEARN_STATE,\n",
        "                                        Q_LEARNING_MEMORY,\n",
        "                                        num_episodes=1001,\n",
        "                                        train_every_timestep=True, # do learning after every timestep\n",
        "                                        video_subdir=\"q_learning\"\n",
        "                                    )\n",
        "\n",
        "plt.plot(episode_returns)\n",
        "plt.xlabel(\"Episodes\")\n",
        "plt.ylabel(\"Episode Return\")\n",
        "plt.title(\"Deep Q-Learning\")\n",
        "plt.show()"
      ]
    },
    {
      "cell_type": "markdown",
      "metadata": {
        "id": "2k0-41wbpFDE"
      },
      "source": [
        "На этом этапе, как мы надеемся, приближенная Q-функция сошлась к приемлемой политике балансировки шеста в задаче CartPole."
      ]
    },
    {
      "cell_type": "code",
      "execution_count": 93,
      "metadata": {
        "id": "t4v0ZbB4FQUs",
        "colab": {
          "base_uri": "https://localhost:8080/",
          "height": 288
        },
        "outputId": "281bae6c-c86c-4bd1-d6e2-37d54a553da0",
        "cellView": "form"
      },
      "outputs": [
        {
          "output_type": "execute_result",
          "data": {
            "text/plain": [
              "<IPython.core.display.HTML object>"
            ],
            "text/html": [
              "\n",
              "<video width=400 controls>\n",
              "      <source src=\"data:video/mp4;base64,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\" type=\"video/mp4\">\n",
              "</video>\n"
            ]
          },
          "metadata": {},
          "execution_count": 93
        }
      ],
      "source": [
        "#@title Визуализация политики\n",
        "#@markdown Выберите номер эпизода, кратный 100 и меньший или равный 1000, и **запустите эту ячейку**.\n",
        "episode_number = 1000 #@param {type:\"number\"}\n",
        "\n",
        "assert (episode_number % 100) == 0, \"Episode number must be a multiple of 100 since we only record every 100th episode.\"\n",
        "assert episode_number < 1001, \"Episode number must be less than or equal to 1000\"\n",
        "\n",
        "\n",
        "eval_episode_number = int(episode_number / 100 * 8)\n",
        "video_path = f\"./video/q_learning/eval/rl-video-episode-{eval_episode_number}.mp4\"\n",
        "\n",
        "mp4 = open(video_path,'rb').read()\n",
        "data_url = \"data:video/mp4;base64,\" + b64encode(mp4).decode()\n",
        "HTML(\"\"\"\n",
        "<video width=400 controls>\n",
        "      <source src=\"%s\" type=\"video/mp4\">\n",
        "</video>\n",
        "\"\"\" % data_url)"
      ]
    },
    {
      "cell_type": "markdown",
      "metadata": {
        "id": "fV3YG7QOZD-B"
      },
      "source": [
        "Кроме того, существует множество алгоритмов RL, которые вносят существенные улучшения в REINFORCE и Deep Q-Learning. См. эти ресурсы:\n",
        "* [REINFORCE с базовым уровнем](https://spinningup.openai.com/en/latest/spinningup/rl_intro3.html#baselines-in-policy-gradients)\n",
        "* [Double Deep Q-Network](https://arxiv.org/pdf/1509.06461.pdf)\n",
        "* [Proximal Policy Optimisation (PPO)](https://arxiv.org/pdf/1707.06347.pdf)\n",
        "\n",
        "Если вы ищете более углубленный онлайн-курс по RL, вы можете ознакомиться с этими курсами:\n",
        "* [Reinforcement Learning Foundations on LinkedIn Learning](https://www.linkedin.com/learning/reinforcement-learning-foundations) (создано одним из наших собственных преподавателей, Хаулатом Абдулхакимом)\n",
        "* [Введение в Reinforcement Learning on FreeCodeCamp](https://www.freecodecamp.org/news/an-introduction-to-reinforcement-learning-4339519de419/)\n",
        "* [Специализация обучения с подкреплением на Coursera](https://www.coursera.org/specializations/reinforcement-learning)\n",
        "\n",
        "Наконец, самый влиятельный учебник по обучению с подкреплением доступен бесплатно онлайн:\n",
        "* [Обучение с подкреплением: введение](http://incompleteideas.net/book/the-book-2nd.html) Ричарда С. Саттона и Эндрю Г. Барто\n",
        "\n",
        "\n",
        "**Ссылки:**\n",
        "\n",
        "* [OpenAI Spinning Up](https://spinningup.openai.com/en/latest/)\n",
        "* [Deep Q-Network]()"
      ]
    },
    {
      "cell_type": "code",
      "source": [],
      "metadata": {
        "id": "6V47Vd_i3qk7"
      },
      "execution_count": null,
      "outputs": []
    }
  ],
  "metadata": {
    "colab": {
      "provenance": []
    },
    "kernelspec": {
      "display_name": "Python 3",
      "name": "python3"
    },
    "language_info": {
      "codemirror_mode": {
        "name": "ipython",
        "version": 3
      },
      "file_extension": ".py",
      "mimetype": "text/x-python",
      "name": "python",
      "nbconvert_exporter": "python",
      "pygments_lexer": "ipython3",
      "version": "3.8.13"
    },
    "vscode": {
      "interpreter": {
        "hash": "0f35138c66f99be0fd7a1210bb4aa94a6fbaa5f29d51ad43aec0e0ea0ff050f0"
      }
    }
  },
  "nbformat": 4,
  "nbformat_minor": 0
}